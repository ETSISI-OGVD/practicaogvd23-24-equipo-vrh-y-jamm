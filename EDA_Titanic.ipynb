{
  "cells": [
    {
      "cell_type": "markdown",
      "source": [
        "# Proceso EDA de los datos del Titanic - Azure Synapse Analytics\r\n",
        "\r\n",
        "#### Vanessa Rodríguez Horcajo y José Antonio Martínez Martínez."
      ],
      "metadata": {
        "nteract": {
          "transient": {
            "deleting": false
          }
        }
      }
    },
    {
      "cell_type": "markdown",
      "source": [
        "El objetivo de esta práctica consiste en desarrollar un modelo de clasificiación capaz de, dados unos datos relativos al accidente del Titanic, predecir si un determinado pasajero sobrevivirá o no.\r\n",
        "\r\n",
        "Este objetivo principal estará compuesto por dos tareas: \r\n",
        "1. El análisis y preparación de los datos, realizado en este notebook.\r\n",
        "2. El desarrollo del propio modelo de clasificación que se realizará empleando Azure ML.\r\n",
        "\r\n",
        "En el presente notebook se comprende solo la primera de las dos mencionadas tareas."
      ],
      "metadata": {
        "nteract": {
          "transient": {
            "deleting": false
          }
        }
      }
    },
    {
      "cell_type": "markdown",
      "source": [
        "## Imports"
      ],
      "metadata": {
        "nteract": {
          "transient": {
            "deleting": false
          }
        }
      }
    },
    {
      "cell_type": "code",
      "source": [
        "import matplotlib.pyplot as plt\r\n",
        "import seaborn as sns\r\n",
        "import pandas as pd\r\n",
        "import numpy as np\r\n",
        "from pyspark.sql.functions import mean "
      ],
      "outputs": [
        {
          "output_type": "display_data",
          "data": {
            "application/vnd.livy.statement-meta+json": {
              "spark_pool": "myspark4lab",
              "session_id": "10",
              "statement_id": 2,
              "state": "finished",
              "livy_statement_state": "available",
              "queued_time": "2024-03-06T08:34:13.0013135Z",
              "session_start_time": "2024-03-06T08:34:13.123682Z",
              "execution_start_time": "2024-03-06T08:38:06.5634329Z",
              "execution_finish_time": "2024-03-06T08:38:23.5998863Z",
              "spark_jobs": null,
              "parent_msg_id": "5b811eac-9e7c-458b-822d-d9e42d8f6496"
            },
            "text/plain": "StatementMeta(myspark4lab, 10, 2, Finished, Available)"
          },
          "metadata": {}
        }
      ],
      "execution_count": 1,
      "metadata": {
        "jupyter": {
          "source_hidden": false,
          "outputs_hidden": false
        },
        "nteract": {
          "transient": {
            "deleting": false
          }
        }
      }
    },
    {
      "cell_type": "markdown",
      "source": [
        "## Carga de datos"
      ],
      "metadata": {
        "nteract": {
          "transient": {
            "deleting": false
          }
        }
      }
    },
    {
      "cell_type": "code",
      "source": [
        "ruta_archivo = \"abfss://fsvrhjamm@datalakevrhjamm.dfs.core.windows.net/PracticaTitanic/DatosPracticaTitanic.csv\"\r\n",
        "df = spark.read.option(\"header\", \"true\").option(\"inferSchema\", \"true\").csv(ruta_archivo)"
      ],
      "outputs": [
        {
          "output_type": "display_data",
          "data": {
            "application/vnd.livy.statement-meta+json": {
              "spark_pool": "myspark4lab",
              "session_id": "10",
              "statement_id": 3,
              "state": "finished",
              "livy_statement_state": "available",
              "queued_time": "2024-03-06T08:34:13.0020617Z",
              "session_start_time": null,
              "execution_start_time": "2024-03-06T08:38:23.7749187Z",
              "execution_finish_time": "2024-03-06T08:38:46.9362058Z",
              "spark_jobs": null,
              "parent_msg_id": "9cee9230-ed3b-4f43-83ba-31b6331e18aa"
            },
            "text/plain": "StatementMeta(myspark4lab, 10, 3, Finished, Available)"
          },
          "metadata": {}
        }
      ],
      "execution_count": 2,
      "metadata": {
        "jupyter": {
          "source_hidden": false,
          "outputs_hidden": false
        },
        "nteract": {
          "transient": {
            "deleting": false
          }
        }
      }
    },
    {
      "cell_type": "code",
      "source": [
        "df.show()"
      ],
      "outputs": [
        {
          "output_type": "display_data",
          "data": {
            "application/vnd.livy.statement-meta+json": {
              "spark_pool": "myspark4lab",
              "session_id": "10",
              "statement_id": 4,
              "state": "finished",
              "livy_statement_state": "available",
              "queued_time": "2024-03-06T08:34:13.0027433Z",
              "session_start_time": null,
              "execution_start_time": "2024-03-06T08:38:47.1056545Z",
              "execution_finish_time": "2024-03-06T08:38:59.9408769Z",
              "spark_jobs": null,
              "parent_msg_id": "c96ffb90-3f02-473e-a281-138a418170dd"
            },
            "text/plain": "StatementMeta(myspark4lab, 10, 4, Finished, Available)"
          },
          "metadata": {}
        },
        {
          "output_type": "stream",
          "name": "stdout",
          "text": [
            "+-----------+--------+------+--------------------+------+----+-----+-----+----------------+-------+-----+--------+\n|PassengerId|Survived|Pclass|                Name|   Sex| Age|SibSp|Parch|          Ticket|   Fare|Cabin|Embarked|\n+-----------+--------+------+--------------------+------+----+-----+-----+----------------+-------+-----+--------+\n|          1|       0|     3|Braund, Mr. Owen ...|  male|22.0|    1|    0|       A/5 21171|   7.25| null|       S|\n|          2|       1|     1|Cumings, Mrs. Joh...|female|38.0|    1|    0|        PC 17599|71.2833|  C85|       C|\n|          3|       1|     3|Heikkinen, Miss. ...|female|26.0|    0|    0|STON/O2. 3101282|  7.925| null|       S|\n|          4|       1|     1|Futrelle, Mrs. Ja...|female|35.0|    1|    0|          113803|   53.1| C123|       S|\n|          5|       0|     3|Allen, Mr. Willia...|  male|35.0|    0|    0|          373450|   8.05| null|       S|\n|          6|       0|     3|    Moran, Mr. James|  male|null|    0|    0|          330877| 8.4583| null|       Q|\n|          7|       0|     1|McCarthy, Mr. Tim...|  male|54.0|    0|    0|           17463|51.8625|  E46|       S|\n|          8|       0|     3|Palsson, Master. ...|  male| 2.0|    3|    1|          349909| 21.075| null|       S|\n|          9|       1|     3|Johnson, Mrs. Osc...|female|27.0|    0|    2|          347742|11.1333| null|       S|\n|         10|       1|     2|Nasser, Mrs. Nich...|female|14.0|    1|    0|          237736|30.0708| null|       C|\n|         11|       1|     3|Sandstrom, Miss. ...|female| 4.0|    1|    1|         PP 9549|   16.7|   G6|       S|\n|         12|       1|     1|Bonnell, Miss. El...|female|58.0|    0|    0|          113783|  26.55| C103|       S|\n|         13|       0|     3|Saundercock, Mr. ...|  male|20.0|    0|    0|       A/5. 2151|   8.05| null|       S|\n|         14|       0|     3|Andersson, Mr. An...|  male|39.0|    1|    5|          347082| 31.275| null|       S|\n|         15|       0|     3|Vestrom, Miss. Hu...|female|14.0|    0|    0|          350406| 7.8542| null|       S|\n|         16|       1|     2|Hewlett, Mrs. (Ma...|female|55.0|    0|    0|          248706|   16.0| null|       S|\n|         17|       0|     3|Rice, Master. Eugene|  male| 2.0|    4|    1|          382652| 29.125| null|       Q|\n|         18|       1|     2|Williams, Mr. Cha...|  male|null|    0|    0|          244373|   13.0| null|       S|\n|         19|       0|     3|Vander Planke, Mr...|female|31.0|    1|    0|          345763|   18.0| null|       S|\n|         20|       1|     3|Masselmani, Mrs. ...|female|null|    0|    0|            2649|  7.225| null|       C|\n+-----------+--------+------+--------------------+------+----+-----+-----+----------------+-------+-----+--------+\nonly showing top 20 rows\n\n"
          ]
        }
      ],
      "execution_count": 3,
      "metadata": {
        "jupyter": {
          "source_hidden": false,
          "outputs_hidden": false
        },
        "nteract": {
          "transient": {
            "deleting": false
          }
        }
      }
    },
    {
      "cell_type": "code",
      "source": [
        "df.printSchema()"
      ],
      "outputs": [
        {
          "output_type": "display_data",
          "data": {
            "application/vnd.livy.statement-meta+json": {
              "spark_pool": "myspark4lab",
              "session_id": "10",
              "statement_id": 5,
              "state": "finished",
              "livy_statement_state": "available",
              "queued_time": "2024-03-06T08:34:13.0034044Z",
              "session_start_time": null,
              "execution_start_time": "2024-03-06T08:39:00.1108976Z",
              "execution_finish_time": "2024-03-06T08:39:00.2752704Z",
              "spark_jobs": null,
              "parent_msg_id": "0db14c97-e6aa-4a93-b141-389087bb9924"
            },
            "text/plain": "StatementMeta(myspark4lab, 10, 5, Finished, Available)"
          },
          "metadata": {}
        },
        {
          "output_type": "stream",
          "name": "stdout",
          "text": [
            "root\n |-- PassengerId: integer (nullable = true)\n |-- Survived: integer (nullable = true)\n |-- Pclass: integer (nullable = true)\n |-- Name: string (nullable = true)\n |-- Sex: string (nullable = true)\n |-- Age: double (nullable = true)\n |-- SibSp: integer (nullable = true)\n |-- Parch: integer (nullable = true)\n |-- Ticket: string (nullable = true)\n |-- Fare: double (nullable = true)\n |-- Cabin: string (nullable = true)\n |-- Embarked: string (nullable = true)\n\n"
          ]
        }
      ],
      "execution_count": 4,
      "metadata": {
        "jupyter": {
          "source_hidden": false,
          "outputs_hidden": false
        },
        "nteract": {
          "transient": {
            "deleting": false
          }
        }
      }
    },
    {
      "cell_type": "code",
      "source": [
        "num_filas = df.count()\r\n",
        "print(\"Número de filas:\", num_filas)\r\n",
        "print(\"Número de columnas:\", len(df.columns))"
      ],
      "outputs": [
        {
          "output_type": "display_data",
          "data": {
            "application/vnd.livy.statement-meta+json": {
              "spark_pool": "myspark4lab",
              "session_id": "10",
              "statement_id": 6,
              "state": "finished",
              "livy_statement_state": "available",
              "queued_time": "2024-03-06T08:34:13.0041679Z",
              "session_start_time": null,
              "execution_start_time": "2024-03-06T08:39:00.4339945Z",
              "execution_finish_time": "2024-03-06T08:39:02.3061084Z",
              "spark_jobs": null,
              "parent_msg_id": "a46d186c-4e76-4ea3-b81f-6dc25c93260e"
            },
            "text/plain": "StatementMeta(myspark4lab, 10, 6, Finished, Available)"
          },
          "metadata": {}
        },
        {
          "output_type": "stream",
          "name": "stdout",
          "text": [
            "Número de filas: 891\nNúmero de columnas: 12\n"
          ]
        }
      ],
      "execution_count": 5,
      "metadata": {
        "jupyter": {
          "source_hidden": false,
          "outputs_hidden": false
        },
        "nteract": {
          "transient": {
            "deleting": false
          }
        }
      }
    },
    {
      "cell_type": "markdown",
      "source": [
        "Tal y como se puede observar tras la carga de los datos, se dispone de la siguiente información relativa a cada pasajero:\r\n",
        "\r\n",
        "- `PassengerId`: Identificador del pasajero.\r\n",
        "- `Survived`: Si el pasajero en cuestión sobrevivió (1) o no (0) a la catástrofe del Titanic.\r\n",
        "- `Pclass`: Clase del ticket: Primera, segunda o tercera clase. \r\n",
        "- `Name`: Nombre de la persona cuya supervivencia se está analizando.\r\n",
        "- `Sex`: Género de la persona cuya supervivencia se está analizando.\r\n",
        "- `Age`: Edad.\r\n",
        "- `SibSp`: Número de hermanos y/o cónyuges presentes abordo del Titanic.\r\n",
        "- `Parch`: Número de padres y/o progenie abordo del Titanic.\r\n",
        "- `Ticket`: Número de ticket del pasajero.\r\n",
        "- `Fare`: Tarifa del pasajero.\r\n",
        "- `Cabin`: Identificador de la cabina en la que se alojaba.\r\n",
        "- `Embarked`: Puerto de embarcación: C = Cherbourg, Q = Queenstown, S = Southampton."
      ],
      "metadata": {
        "nteract": {
          "transient": {
            "deleting": false
          }
        }
      }
    },
    {
      "cell_type": "markdown",
      "source": [
        "## Análisis estadístico de los datos."
      ],
      "metadata": {
        "nteract": {
          "transient": {
            "deleting": false
          }
        }
      }
    },
    {
      "cell_type": "markdown",
      "source": [
        "Antes de proceder con el propio análisis de los datos procederemos a eliminar algunas columnas que no se consideran de interés de cara a la consecución de nuestros objetivos.\r\n",
        "\r\n",
        "Así pues se eliminan las columnas `PassengerId`, `Name`, `Ticket` y `Cabin`. "
      ],
      "metadata": {
        "nteract": {
          "transient": {
            "deleting": false
          }
        }
      }
    },
    {
      "cell_type": "code",
      "source": [
        "columnas_a_eliminar = [\"PassengerId\", \"Name\", \"Ticket\", \"Cabin\"]\r\n",
        "df = df.drop(*columnas_a_eliminar)\r\n",
        " \r\n",
        "df.show()"
      ],
      "outputs": [
        {
          "output_type": "display_data",
          "data": {
            "application/vnd.livy.statement-meta+json": {
              "spark_pool": "myspark4lab",
              "session_id": "10",
              "statement_id": 7,
              "state": "finished",
              "livy_statement_state": "available",
              "queued_time": "2024-03-06T08:34:13.0048752Z",
              "session_start_time": null,
              "execution_start_time": "2024-03-06T08:39:02.4762423Z",
              "execution_finish_time": "2024-03-06T08:39:03.5722864Z",
              "spark_jobs": null,
              "parent_msg_id": "49d60634-00ac-4131-bcaf-a9aa010e0445"
            },
            "text/plain": "StatementMeta(myspark4lab, 10, 7, Finished, Available)"
          },
          "metadata": {}
        },
        {
          "output_type": "stream",
          "name": "stdout",
          "text": [
            "+--------+------+------+----+-----+-----+-------+--------+\n|Survived|Pclass|   Sex| Age|SibSp|Parch|   Fare|Embarked|\n+--------+------+------+----+-----+-----+-------+--------+\n|       0|     3|  male|22.0|    1|    0|   7.25|       S|\n|       1|     1|female|38.0|    1|    0|71.2833|       C|\n|       1|     3|female|26.0|    0|    0|  7.925|       S|\n|       1|     1|female|35.0|    1|    0|   53.1|       S|\n|       0|     3|  male|35.0|    0|    0|   8.05|       S|\n|       0|     3|  male|null|    0|    0| 8.4583|       Q|\n|       0|     1|  male|54.0|    0|    0|51.8625|       S|\n|       0|     3|  male| 2.0|    3|    1| 21.075|       S|\n|       1|     3|female|27.0|    0|    2|11.1333|       S|\n|       1|     2|female|14.0|    1|    0|30.0708|       C|\n|       1|     3|female| 4.0|    1|    1|   16.7|       S|\n|       1|     1|female|58.0|    0|    0|  26.55|       S|\n|       0|     3|  male|20.0|    0|    0|   8.05|       S|\n|       0|     3|  male|39.0|    1|    5| 31.275|       S|\n|       0|     3|female|14.0|    0|    0| 7.8542|       S|\n|       1|     2|female|55.0|    0|    0|   16.0|       S|\n|       0|     3|  male| 2.0|    4|    1| 29.125|       Q|\n|       1|     2|  male|null|    0|    0|   13.0|       S|\n|       0|     3|female|31.0|    1|    0|   18.0|       S|\n|       1|     3|female|null|    0|    0|  7.225|       C|\n+--------+------+------+----+-----+-----+-------+--------+\nonly showing top 20 rows\n\n"
          ]
        }
      ],
      "execution_count": 6,
      "metadata": {
        "jupyter": {
          "source_hidden": false,
          "outputs_hidden": false
        },
        "nteract": {
          "transient": {
            "deleting": false
          }
        }
      }
    },
    {
      "cell_type": "code",
      "source": [
        "df.describe().show()"
      ],
      "outputs": [
        {
          "output_type": "display_data",
          "data": {
            "application/vnd.livy.statement-meta+json": {
              "spark_pool": "myspark4lab",
              "session_id": "10",
              "statement_id": 8,
              "state": "finished",
              "livy_statement_state": "available",
              "queued_time": "2024-03-06T08:34:13.0057915Z",
              "session_start_time": null,
              "execution_start_time": "2024-03-06T08:39:03.7356983Z",
              "execution_finish_time": "2024-03-06T08:39:07.7913815Z",
              "spark_jobs": null,
              "parent_msg_id": "4fd6d500-8ecb-456e-8c64-6c1ab2733ef8"
            },
            "text/plain": "StatementMeta(myspark4lab, 10, 8, Finished, Available)"
          },
          "metadata": {}
        },
        {
          "output_type": "stream",
          "name": "stdout",
          "text": [
            "+-------+-------------------+------------------+------+------------------+------------------+-------------------+-----------------+--------+\n|summary|           Survived|            Pclass|   Sex|               Age|             SibSp|              Parch|             Fare|Embarked|\n+-------+-------------------+------------------+------+------------------+------------------+-------------------+-----------------+--------+\n|  count|                891|               891|   891|               714|               891|                891|              891|     889|\n|   mean| 0.3838383838383838| 2.308641975308642|  null| 29.69911764705882|0.5230078563411896|0.38159371492704824| 32.2042079685746|    null|\n| stddev|0.48659245426485753|0.8360712409770491|  null|14.526497332334035|1.1027434322934315| 0.8060572211299488|49.69342859718089|    null|\n|    min|                  0|                 1|female|              0.42|                 0|                  0|              0.0|       C|\n|    max|                  1|                 3|  male|              80.0|                 8|                  6|         512.3292|       S|\n+-------+-------------------+------------------+------+------------------+------------------+-------------------+-----------------+--------+\n\n"
          ]
        }
      ],
      "execution_count": 7,
      "metadata": {
        "jupyter": {
          "source_hidden": false,
          "outputs_hidden": false
        },
        "nteract": {
          "transient": {
            "deleting": false
          }
        }
      }
    },
    {
      "cell_type": "markdown",
      "source": [
        "Para representar las distintas variables gráficamente es necesario transformar los datos a formato Dataframe de Pandas por lo que se procederá a ello ahora."
      ],
      "metadata": {
        "nteract": {
          "transient": {
            "deleting": false
          }
        }
      }
    },
    {
      "cell_type": "code",
      "source": [
        "df_pd = df.toPandas()"
      ],
      "outputs": [
        {
          "output_type": "display_data",
          "data": {
            "application/vnd.livy.statement-meta+json": {
              "spark_pool": "myspark4lab",
              "session_id": "10",
              "statement_id": 9,
              "state": "finished",
              "livy_statement_state": "available",
              "queued_time": "2024-03-06T08:34:13.0069404Z",
              "session_start_time": null,
              "execution_start_time": "2024-03-06T08:39:07.9971372Z",
              "execution_finish_time": "2024-03-06T08:39:10.9390505Z",
              "spark_jobs": null,
              "parent_msg_id": "4d000440-c0de-4e10-b33b-f6304d478149"
            },
            "text/plain": "StatementMeta(myspark4lab, 10, 9, Finished, Available)"
          },
          "metadata": {}
        }
      ],
      "execution_count": 8,
      "metadata": {
        "jupyter": {
          "source_hidden": false,
          "outputs_hidden": false
        },
        "nteract": {
          "transient": {
            "deleting": false
          }
        }
      }
    },
    {
      "cell_type": "markdown",
      "source": [
        "### Análisis de Survived"
      ],
      "metadata": {
        "nteract": {
          "transient": {
            "deleting": false
          }
        }
      }
    },
    {
      "cell_type": "markdown",
      "source": [
        "Se trata de la variable a predecir. Toma valores 0 o 1 dependiendo de si los pasajaeros sobrevivieron (1) o no (0).\r\n",
        "\r\n",
        "A continuación se procederá a analizar si presenta algún valor nulo y cómo se distribuyen las clases."
      ],
      "metadata": {
        "nteract": {
          "transient": {
            "deleting": false
          }
        }
      }
    },
    {
      "cell_type": "code",
      "source": [
        "aux = df.filter(df[\"Survived\"].isNull())\r\n",
        " \r\n",
        "print(f\"Número de filas en las que Survived es nulo: {aux.count()}\")"
      ],
      "outputs": [
        {
          "output_type": "display_data",
          "data": {
            "application/vnd.livy.statement-meta+json": {
              "spark_pool": "myspark4lab",
              "session_id": "10",
              "statement_id": 10,
              "state": "finished",
              "livy_statement_state": "available",
              "queued_time": "2024-03-06T08:34:13.0079775Z",
              "session_start_time": null,
              "execution_start_time": "2024-03-06T08:39:11.1021064Z",
              "execution_finish_time": "2024-03-06T08:39:12.2686599Z",
              "spark_jobs": null,
              "parent_msg_id": "2328c95a-1e10-4d03-bb0f-122d3736fd4b"
            },
            "text/plain": "StatementMeta(myspark4lab, 10, 10, Finished, Available)"
          },
          "metadata": {}
        },
        {
          "output_type": "stream",
          "name": "stdout",
          "text": [
            "Número de filas en las que Survived es nulo: 0\n"
          ]
        }
      ],
      "execution_count": 9,
      "metadata": {
        "jupyter": {
          "source_hidden": false,
          "outputs_hidden": false
        },
        "nteract": {
          "transient": {
            "deleting": false
          }
        }
      }
    },
    {
      "cell_type": "code",
      "source": [
        "grafico = sns.catplot(data=df_pd, x=\"Survived\", kind=\"count\", palette='pastel')\r\n",
        " \r\n",
        "conteo = df_pd['Survived'].value_counts()\r\n",
        "colores_barras = [bar.get_facecolor() for bar in grafico.ax.patches]\r\n",
        " \r\n",
        "for i, patch in enumerate(grafico.ax.patches):\r\n",
        "    x = patch.get_x() + patch.get_width() / 2\r\n",
        "    y = patch.get_height()\r\n",
        "    texto = f'{\"Survived\" if conteo.index[i] == 1 else \"No survived\"}: {conteo.iloc[i]}'\r\n",
        "    grafico.ax.annotate(texto, (x, y), ha='center', va='bottom', color='black')\r\n",
        " \r\n",
        "plt.xlabel('Survived')\r\n",
        "plt.ylabel('Passenger count')\r\n",
        " \r\n",
        "plt.show()"
      ],
      "outputs": [
        {
          "output_type": "display_data",
          "data": {
            "application/vnd.livy.statement-meta+json": {
              "spark_pool": "myspark4lab",
              "session_id": "10",
              "statement_id": 11,
              "state": "finished",
              "livy_statement_state": "available",
              "queued_time": "2024-03-06T08:34:13.0094124Z",
              "session_start_time": null,
              "execution_start_time": "2024-03-06T08:39:12.5588083Z",
              "execution_finish_time": "2024-03-06T08:39:14.4729314Z",
              "spark_jobs": null,
              "parent_msg_id": "51f05b81-b8c4-47e0-aadf-ae387b91dd8d"
            },
            "text/plain": "StatementMeta(myspark4lab, 10, 11, Finished, Available)"
          },
          "metadata": {}
        },
        {
          "output_type": "display_data",
          "data": {
            "text/plain": "<Figure size 500x500 with 1 Axes>",
            "image/png": "[encoded data removed]"
          },
          "metadata": {}
        }
      ],
      "execution_count": 10,
      "metadata": {
        "jupyter": {
          "source_hidden": false,
          "outputs_hidden": false
        },
        "nteract": {
          "transient": {
            "deleting": false
          }
        }
      }
    },
    {
      "cell_type": "code",
      "source": [
        "print(f\"Porcentaje de supervivientes: {(df_pd[df_pd.Survived == 1].shape[0] / num_filas * 100):.2f}%\")\r\n",
        "print(f\"Porcentaje de no supervivientes: {(df_pd[df_pd.Survived == 0].shape[0] / num_filas * 100):.2f}%\")"
      ],
      "outputs": [
        {
          "output_type": "display_data",
          "data": {
            "application/vnd.livy.statement-meta+json": {
              "spark_pool": "myspark4lab",
              "session_id": "10",
              "statement_id": 12,
              "state": "finished",
              "livy_statement_state": "available",
              "queued_time": "2024-03-06T08:34:13.0121878Z",
              "session_start_time": null,
              "execution_start_time": "2024-03-06T08:39:14.6516121Z",
              "execution_finish_time": "2024-03-06T08:39:14.8328079Z",
              "spark_jobs": null,
              "parent_msg_id": "5c5b8929-6866-4d8b-8cbb-5489ef3915da"
            },
            "text/plain": "StatementMeta(myspark4lab, 10, 12, Finished, Available)"
          },
          "metadata": {}
        },
        {
          "output_type": "stream",
          "name": "stdout",
          "text": [
            "Porcentaje de supervivientes: 38.38%\nPorcentaje de no supervivientes: 61.62%\n"
          ]
        }
      ],
      "execution_count": 11,
      "metadata": {
        "jupyter": {
          "source_hidden": false,
          "outputs_hidden": false
        },
        "nteract": {
          "transient": {
            "deleting": false
          }
        }
      }
    },
    {
      "cell_type": "markdown",
      "source": [
        "Del anterior análisis se puede concluir que no hay valores faltantes y que los datos están algo sesgados hacia la no supervivencia de los pasajeros: Hay un 23.24% más de pasajeros no supervivientes."
      ],
      "metadata": {
        "nteract": {
          "transient": {
            "deleting": false
          }
        }
      }
    },
    {
      "cell_type": "markdown",
      "source": [
        "### Análisis de Pclass"
      ],
      "metadata": {
        "nteract": {
          "transient": {
            "deleting": false
          }
        }
      }
    },
    {
      "cell_type": "markdown",
      "source": [
        "Se trata de la clase de los pasajeros. Toma valores 1, 2, 3 dependiendo de si los pasajaeros eran de primera, segunda o tercera clase.\r\n",
        "\r\n",
        "A continuación se procederá a analizar si presenta algún valor nulo y cómo se distribuyen las clases."
      ],
      "metadata": {
        "nteract": {
          "transient": {
            "deleting": false
          }
        }
      }
    },
    {
      "cell_type": "code",
      "source": [
        "aux = df.filter(df[\"Pclass\"].isNull())\r\n",
        " \r\n",
        "print(f\"Número de filas en las que Pclass es nulo: {aux.count()}\")"
      ],
      "outputs": [
        {
          "output_type": "display_data",
          "data": {
            "application/vnd.livy.statement-meta+json": {
              "spark_pool": "myspark4lab",
              "session_id": "10",
              "statement_id": 13,
              "state": "finished",
              "livy_statement_state": "available",
              "queued_time": "2024-03-06T08:34:13.0157116Z",
              "session_start_time": null,
              "execution_start_time": "2024-03-06T08:39:15.0095037Z",
              "execution_finish_time": "2024-03-06T08:39:15.5445602Z",
              "spark_jobs": null,
              "parent_msg_id": "6fea8643-43f9-42eb-bedb-3e0237ad3ea6"
            },
            "text/plain": "StatementMeta(myspark4lab, 10, 13, Finished, Available)"
          },
          "metadata": {}
        },
        {
          "output_type": "stream",
          "name": "stdout",
          "text": [
            "Número de filas en las que Pclass es nulo: 0\n"
          ]
        }
      ],
      "execution_count": 12,
      "metadata": {
        "jupyter": {
          "source_hidden": false,
          "outputs_hidden": false
        },
        "nteract": {
          "transient": {
            "deleting": false
          }
        }
      }
    },
    {
      "cell_type": "code",
      "source": [
        "grafico = sns.catplot(data=df_pd, x=\"Pclass\", kind=\"count\", palette='pastel')\r\n",
        " \r\n",
        "conteo = df_pd['Pclass'].value_counts().sort_index()\r\n",
        "colores_barras = [bar.get_facecolor() for bar in grafico.ax.patches]\r\n",
        "\r\n",
        "lista_clases = [\"Primera\", \"Segunda\", \"Tercera\"]\r\n",
        " \r\n",
        "for i, patch in enumerate(grafico.ax.patches):\r\n",
        "    x = patch.get_x() + patch.get_width() / 2\r\n",
        "    y = patch.get_height()\r\n",
        "    texto = f'{lista_clases[conteo.index[i]-1]}: {conteo.iloc[i]}'\r\n",
        "    grafico.ax.annotate(texto, (x, y), ha='center', va='bottom', color='black')\r\n",
        " \r\n",
        "plt.xlabel('Pclass')\r\n",
        "plt.ylabel('Passenger count')\r\n",
        " \r\n",
        "plt.show()"
      ],
      "outputs": [
        {
          "output_type": "display_data",
          "data": {
            "application/vnd.livy.statement-meta+json": {
              "spark_pool": "myspark4lab",
              "session_id": "10",
              "statement_id": 14,
              "state": "finished",
              "livy_statement_state": "available",
              "queued_time": "2024-03-06T08:34:13.0175514Z",
              "session_start_time": null,
              "execution_start_time": "2024-03-06T08:39:15.7091526Z",
              "execution_finish_time": "2024-03-06T08:39:16.2571456Z",
              "spark_jobs": null,
              "parent_msg_id": "cedea20b-ab2c-4f98-9a77-50fc5efc1d54"
            },
            "text/plain": "StatementMeta(myspark4lab, 10, 14, Finished, Available)"
          },
          "metadata": {}
        },
        {
          "output_type": "display_data",
          "data": {
            "text/plain": "<Figure size 500x500 with 1 Axes>",
            "image/png": "[encoded data removed]"
          },
          "metadata": {}
        }
      ],
      "execution_count": 13,
      "metadata": {
        "jupyter": {
          "source_hidden": false,
          "outputs_hidden": false
        },
        "nteract": {
          "transient": {
            "deleting": false
          }
        }
      }
    },
    {
      "cell_type": "markdown",
      "source": [
        "Del anterior análisis se puede concluir que no hay valores faltantes y que los datos están desbalanceados: La mayoría de los pasajeros pertenecen a tercera clase."
      ],
      "metadata": {
        "nteract": {
          "transient": {
            "deleting": false
          }
        }
      }
    },
    {
      "cell_type": "markdown",
      "source": [
        "### Análisis de Sex"
      ],
      "metadata": {
        "nteract": {
          "transient": {
            "deleting": false
          }
        }
      }
    },
    {
      "cell_type": "markdown",
      "source": [
        "Se trata del género de los pasajeros. Toma valor `male` para hombres y `female` para mujeres.\r\n",
        "\r\n",
        "A continuación se procederá a analizar si presenta algún valor nulo y cómo se distribuyen las clases."
      ],
      "metadata": {
        "nteract": {
          "transient": {
            "deleting": false
          }
        }
      }
    },
    {
      "cell_type": "code",
      "source": [
        "aux = df.filter(df[\"Sex\"].isNull())\r\n",
        " \r\n",
        "print(f\"Número de filas en las que Sex es nulo: {aux.count()}\")"
      ],
      "outputs": [
        {
          "output_type": "display_data",
          "data": {
            "application/vnd.livy.statement-meta+json": {
              "spark_pool": "myspark4lab",
              "session_id": "10",
              "statement_id": 15,
              "state": "finished",
              "livy_statement_state": "available",
              "queued_time": "2024-03-06T08:34:13.0191505Z",
              "session_start_time": null,
              "execution_start_time": "2024-03-06T08:39:16.4036026Z",
              "execution_finish_time": "2024-03-06T08:39:16.9588759Z",
              "spark_jobs": null,
              "parent_msg_id": "b20ffff5-9da5-447b-8535-2a9d2c4dc4e2"
            },
            "text/plain": "StatementMeta(myspark4lab, 10, 15, Finished, Available)"
          },
          "metadata": {}
        },
        {
          "output_type": "stream",
          "name": "stdout",
          "text": [
            "Número de filas en las que Sex es nulo: 0\n"
          ]
        }
      ],
      "execution_count": 14,
      "metadata": {
        "jupyter": {
          "source_hidden": false,
          "outputs_hidden": false
        },
        "nteract": {
          "transient": {
            "deleting": false
          }
        }
      }
    },
    {
      "cell_type": "code",
      "source": [
        "grafico = sns.catplot(data=df_pd, x=\"Sex\", kind=\"count\", palette='pastel')\r\n",
        " \r\n",
        "conteo = df_pd['Sex'].value_counts()\r\n",
        "colores_barras = [bar.get_facecolor() for bar in grafico.ax.patches]\r\n",
        " \r\n",
        "for i, patch in enumerate(grafico.ax.patches):\r\n",
        "    x = patch.get_x() + patch.get_width() / 2\r\n",
        "    y = patch.get_height()\r\n",
        "    texto = f'{conteo.index[i]}: {conteo.iloc[i]}'\r\n",
        "    grafico.ax.annotate(texto, (x, y), ha='center', va='bottom', color='black')\r\n",
        " \r\n",
        "plt.xlabel('Sex')\r\n",
        "plt.ylabel('Passenger count')\r\n",
        " \r\n",
        "plt.show()"
      ],
      "outputs": [
        {
          "output_type": "display_data",
          "data": {
            "application/vnd.livy.statement-meta+json": {
              "spark_pool": "myspark4lab",
              "session_id": "10",
              "statement_id": 16,
              "state": "finished",
              "livy_statement_state": "available",
              "queued_time": "2024-03-06T08:34:13.0206388Z",
              "session_start_time": null,
              "execution_start_time": "2024-03-06T08:39:17.1693458Z",
              "execution_finish_time": "2024-03-06T08:39:17.7349908Z",
              "spark_jobs": null,
              "parent_msg_id": "bae58f39-22f9-4bb2-b4f1-e2f4de1d0224"
            },
            "text/plain": "StatementMeta(myspark4lab, 10, 16, Finished, Available)"
          },
          "metadata": {}
        },
        {
          "output_type": "display_data",
          "data": {
            "text/plain": "<Figure size 500x500 with 1 Axes>",
            "image/png": "[encoded data removed]"
          },
          "metadata": {}
        }
      ],
      "execution_count": 15,
      "metadata": {
        "jupyter": {
          "source_hidden": false,
          "outputs_hidden": false
        },
        "nteract": {
          "transient": {
            "deleting": false
          }
        }
      }
    },
    {
      "cell_type": "code",
      "source": [
        "hombre = \"male\"\r\n",
        "mujer = \"female\"\r\n",
        "print(f\"Porcentaje de hombres: {(df_pd[df_pd.Sex == hombre].shape[0] / num_filas * 100):.2f}%\")\r\n",
        "print(f\"Porcentaje de mujeres: {(df_pd[df_pd.Sex == mujer].shape[0] / num_filas * 100):.2f}%\")"
      ],
      "outputs": [
        {
          "output_type": "display_data",
          "data": {
            "application/vnd.livy.statement-meta+json": {
              "spark_pool": "myspark4lab",
              "session_id": "10",
              "statement_id": 17,
              "state": "finished",
              "livy_statement_state": "available",
              "queued_time": "2024-03-06T08:34:13.0225466Z",
              "session_start_time": null,
              "execution_start_time": "2024-03-06T08:39:17.8947707Z",
              "execution_finish_time": "2024-03-06T08:39:18.11123Z",
              "spark_jobs": null,
              "parent_msg_id": "206cadbf-5aba-4681-8616-1a1644fd40df"
            },
            "text/plain": "StatementMeta(myspark4lab, 10, 17, Finished, Available)"
          },
          "metadata": {}
        },
        {
          "output_type": "stream",
          "name": "stdout",
          "text": [
            "Porcentaje de hombres: 64.76%\nPorcentaje de mujeres: 35.24%\n"
          ]
        }
      ],
      "execution_count": 16,
      "metadata": {
        "jupyter": {
          "source_hidden": false,
          "outputs_hidden": false
        },
        "nteract": {
          "transient": {
            "deleting": false
          }
        }
      }
    },
    {
      "cell_type": "markdown",
      "source": [
        "Del anterior análisis se puede concluir que no hay valores faltantes y que los datos están desbalanceados: Hay un 29.52% más de hombres que de mujeres."
      ],
      "metadata": {
        "nteract": {
          "transient": {
            "deleting": false
          }
        }
      }
    },
    {
      "cell_type": "markdown",
      "source": [
        "### Análisis de Age"
      ],
      "metadata": {
        "nteract": {
          "transient": {
            "deleting": false
          }
        }
      }
    },
    {
      "cell_type": "markdown",
      "source": [
        "Se trata de la edad de los pasajeros.\r\n",
        "\r\n",
        "A continuación se procederá a analizar si presenta algún valor nulo y cómo se distribuyen las clases."
      ],
      "metadata": {
        "nteract": {
          "transient": {
            "deleting": false
          }
        }
      }
    },
    {
      "cell_type": "code",
      "source": [
        "aux = df.filter(df[\"Age\"].isNull())\r\n",
        " \r\n",
        "print(f\"Número de filas en las que Age es nulo: {aux.count()}\")"
      ],
      "outputs": [
        {
          "output_type": "display_data",
          "data": {
            "application/vnd.livy.statement-meta+json": {
              "spark_pool": "myspark4lab",
              "session_id": "10",
              "statement_id": 18,
              "state": "finished",
              "livy_statement_state": "available",
              "queued_time": "2024-03-06T08:34:13.0239472Z",
              "session_start_time": null,
              "execution_start_time": "2024-03-06T08:39:18.2587289Z",
              "execution_finish_time": "2024-03-06T08:39:18.8137989Z",
              "spark_jobs": null,
              "parent_msg_id": "8f0ab08d-3993-4a7d-81df-d23c52bf2c26"
            },
            "text/plain": "StatementMeta(myspark4lab, 10, 18, Finished, Available)"
          },
          "metadata": {}
        },
        {
          "output_type": "stream",
          "name": "stdout",
          "text": [
            "Número de filas en las que Age es nulo: 177\n"
          ]
        }
      ],
      "execution_count": 17,
      "metadata": {
        "jupyter": {
          "source_hidden": false,
          "outputs_hidden": false
        },
        "nteract": {
          "transient": {
            "deleting": false
          }
        }
      }
    },
    {
      "cell_type": "markdown",
      "source": [
        "Como se aprecian valores faltantes, hemos decidido emplear la media para subsanar los mismos."
      ],
      "metadata": {
        "nteract": {
          "transient": {
            "deleting": false
          }
        }
      }
    },
    {
      "cell_type": "code",
      "source": [
        "mean_age = df.select(mean(df['Age'])).collect()[0][0] \r\n",
        "mean_age = round(mean_age)\r\n",
        "mean_age"
      ],
      "outputs": [
        {
          "output_type": "display_data",
          "data": {
            "application/vnd.livy.statement-meta+json": {
              "spark_pool": "myspark4lab",
              "session_id": "10",
              "statement_id": 19,
              "state": "finished",
              "livy_statement_state": "available",
              "queued_time": "2024-03-06T08:34:13.0257917Z",
              "session_start_time": null,
              "execution_start_time": "2024-03-06T08:39:18.9817845Z",
              "execution_finish_time": "2024-03-06T08:39:19.5593432Z",
              "spark_jobs": null,
              "parent_msg_id": "f0cff10b-f3bf-4dab-93b5-77e818f61d54"
            },
            "text/plain": "StatementMeta(myspark4lab, 10, 19, Finished, Available)"
          },
          "metadata": {}
        },
        {
          "output_type": "execute_result",
          "execution_count": 39,
          "data": {
            "text/plain": "30"
          },
          "metadata": {}
        }
      ],
      "execution_count": 18,
      "metadata": {
        "jupyter": {
          "source_hidden": false,
          "outputs_hidden": false
        },
        "nteract": {
          "transient": {
            "deleting": false
          }
        }
      }
    },
    {
      "cell_type": "code",
      "source": [
        "df = df.fillna(mean_age, subset=['Age'])"
      ],
      "outputs": [
        {
          "output_type": "display_data",
          "data": {
            "application/vnd.livy.statement-meta+json": {
              "spark_pool": "myspark4lab",
              "session_id": "10",
              "statement_id": 20,
              "state": "finished",
              "livy_statement_state": "available",
              "queued_time": "2024-03-06T08:34:13.0272624Z",
              "session_start_time": null,
              "execution_start_time": "2024-03-06T08:39:19.7201431Z",
              "execution_finish_time": "2024-03-06T08:39:19.8872232Z",
              "spark_jobs": null,
              "parent_msg_id": "903c4e1f-5fb9-47e2-b9ea-96dfe47d9f32"
            },
            "text/plain": "StatementMeta(myspark4lab, 10, 20, Finished, Available)"
          },
          "metadata": {}
        }
      ],
      "execution_count": 19,
      "metadata": {
        "jupyter": {
          "source_hidden": false,
          "outputs_hidden": false
        },
        "nteract": {
          "transient": {
            "deleting": false
          }
        }
      }
    },
    {
      "cell_type": "code",
      "source": [
        "aux = df.filter(df[\"Age\"].isNull())\r\n",
        " \r\n",
        "print(f\"Número de filas en las que Age es nulo: {aux.count()}\")"
      ],
      "outputs": [
        {
          "output_type": "display_data",
          "data": {
            "application/vnd.livy.statement-meta+json": {
              "spark_pool": "myspark4lab",
              "session_id": "10",
              "statement_id": 21,
              "state": "finished",
              "livy_statement_state": "available",
              "queued_time": "2024-03-06T08:34:13.0296424Z",
              "session_start_time": null,
              "execution_start_time": "2024-03-06T08:39:20.0472045Z",
              "execution_finish_time": "2024-03-06T08:39:20.6102203Z",
              "spark_jobs": null,
              "parent_msg_id": "ef433ae0-4657-4f50-92bd-0a382144b369"
            },
            "text/plain": "StatementMeta(myspark4lab, 10, 21, Finished, Available)"
          },
          "metadata": {}
        },
        {
          "output_type": "stream",
          "name": "stdout",
          "text": [
            "Número de filas en las que Age es nulo: 0\n"
          ]
        }
      ],
      "execution_count": 20,
      "metadata": {
        "jupyter": {
          "source_hidden": false,
          "outputs_hidden": false
        },
        "nteract": {
          "transient": {
            "deleting": false
          }
        }
      }
    },
    {
      "cell_type": "markdown",
      "source": [
        "Por consistencia se eliminarán también los NaN en pandas."
      ],
      "metadata": {
        "nteract": {
          "transient": {
            "deleting": false
          }
        }
      }
    },
    {
      "cell_type": "code",
      "source": [
        "df_pd = df.toPandas()"
      ],
      "outputs": [
        {
          "output_type": "display_data",
          "data": {
            "application/vnd.livy.statement-meta+json": {
              "spark_pool": "myspark4lab",
              "session_id": "10",
              "statement_id": 22,
              "state": "finished",
              "livy_statement_state": "available",
              "queued_time": "2024-03-06T08:34:13.0314361Z",
              "session_start_time": null,
              "execution_start_time": "2024-03-06T08:39:20.7632959Z",
              "execution_finish_time": "2024-03-06T08:39:21.3350598Z",
              "spark_jobs": null,
              "parent_msg_id": "b790a88e-6912-4f5c-8e84-3c34620e4ba4"
            },
            "text/plain": "StatementMeta(myspark4lab, 10, 22, Finished, Available)"
          },
          "metadata": {}
        }
      ],
      "execution_count": 21,
      "metadata": {
        "jupyter": {
          "source_hidden": false,
          "outputs_hidden": false
        },
        "nteract": {
          "transient": {
            "deleting": false
          }
        }
      }
    },
    {
      "cell_type": "code",
      "source": [
        "bins = [0, 10, 20, 30, 40, 50, 60, 70, 80]\r\n",
        " \r\n",
        "df_pd['Age_Bin'] = pd.cut(df_pd['Age'], bins=bins, right=False)\r\n",
        " \r\n",
        "conteo_por_bin = df_pd.groupby('Age_Bin').size().reset_index(name='Count')\r\n",
        " \r\n",
        "grafico = sns.histplot(data=df_pd, x=\"Age\", palette='pastel', bins=bins) \r\n",
        " \r\n",
        "for i, bar in enumerate(grafico.containers[0]):\r\n",
        "    x = bar.get_x() + bar.get_width() / 2\r\n",
        "    y = bar.get_height()\r\n",
        "    plt.text(x, y, conteo_por_bin['Count'].iloc[i], ha='center', va='bottom', color='black')\r\n",
        " \r\n",
        "plt.xlabel('Age')\r\n",
        "plt.ylabel('Passenger count')\r\n",
        "plt.show()"
      ],
      "outputs": [
        {
          "output_type": "display_data",
          "data": {
            "application/vnd.livy.statement-meta+json": {
              "spark_pool": "myspark4lab",
              "session_id": "10",
              "statement_id": 23,
              "state": "finished",
              "livy_statement_state": "available",
              "queued_time": "2024-03-06T08:34:13.0334421Z",
              "session_start_time": null,
              "execution_start_time": "2024-03-06T08:39:21.5019592Z",
              "execution_finish_time": "2024-03-06T08:39:22.0957254Z",
              "spark_jobs": null,
              "parent_msg_id": "71bacc77-9e33-4b8e-9bdf-8861cb5feef0"
            },
            "text/plain": "StatementMeta(myspark4lab, 10, 23, Finished, Available)"
          },
          "metadata": {}
        },
        {
          "output_type": "display_data",
          "data": {
            "text/plain": "<Figure size 640x480 with 1 Axes>",
            "image/png": "[encoded data removed]"
          },
          "metadata": {}
        }
      ],
      "execution_count": 22,
      "metadata": {
        "jupyter": {
          "source_hidden": false,
          "outputs_hidden": false
        },
        "nteract": {
          "transient": {
            "deleting": false
          }
        }
      }
    },
    {
      "cell_type": "markdown",
      "source": [
        "Del anterior análisis se puede concluir que ya no hay valores faltantes. Se debe tener en cuenta que, para solucionar el problema de los valores faltantes, se ha recurrido al valor medio de la edad. Al haberse utilizado esta estrategia es posible que se haya difuminado parte de la información de la edad por lo que, en caso de que el modelo no funcionase correctamente, habría que volver a analizar esta variable."
      ],
      "metadata": {
        "nteract": {
          "transient": {
            "deleting": false
          }
        }
      }
    },
    {
      "cell_type": "code",
      "source": [
        "df_pd.drop(columns=[\"Age_Bin\"], inplace=True)"
      ],
      "outputs": [
        {
          "output_type": "display_data",
          "data": {
            "application/vnd.livy.statement-meta+json": {
              "spark_pool": "myspark4lab",
              "session_id": "10",
              "statement_id": 24,
              "state": "finished",
              "livy_statement_state": "available",
              "queued_time": "2024-03-06T08:34:13.0353429Z",
              "session_start_time": null,
              "execution_start_time": "2024-03-06T08:39:22.28975Z",
              "execution_finish_time": "2024-03-06T08:39:22.4465618Z",
              "spark_jobs": null,
              "parent_msg_id": "c40ab982-eb3a-430a-ad50-e7e032f4d61d"
            },
            "text/plain": "StatementMeta(myspark4lab, 10, 24, Finished, Available)"
          },
          "metadata": {}
        }
      ],
      "execution_count": 23,
      "metadata": {
        "jupyter": {
          "source_hidden": false,
          "outputs_hidden": false
        },
        "nteract": {
          "transient": {
            "deleting": false
          }
        }
      }
    },
    {
      "cell_type": "markdown",
      "source": [
        "### Análisis de SibSp (Siblings and Spouse)"
      ],
      "metadata": {
        "nteract": {
          "transient": {
            "deleting": false
          }
        }
      }
    },
    {
      "cell_type": "markdown",
      "source": [
        "Se trata del número de hermanos y/o conyuges presentes abordo del Titanic.\r\n",
        "\r\n",
        "A continuación se procederá a analizar si presenta algún valor nulo y cómo se distribuyen las clases."
      ],
      "metadata": {
        "nteract": {
          "transient": {
            "deleting": false
          }
        }
      }
    },
    {
      "cell_type": "code",
      "source": [
        "aux = df.filter(df[\"SibSp\"].isNull())\r\n",
        " \r\n",
        "print(f\"Número de filas en las que SibSp es nulo: {aux.count()}\")"
      ],
      "outputs": [
        {
          "output_type": "display_data",
          "data": {
            "application/vnd.livy.statement-meta+json": {
              "spark_pool": "myspark4lab",
              "session_id": "10",
              "statement_id": 25,
              "state": "finished",
              "livy_statement_state": "available",
              "queued_time": "2024-03-06T08:34:13.0373789Z",
              "session_start_time": null,
              "execution_start_time": "2024-03-06T08:39:22.6113315Z",
              "execution_finish_time": "2024-03-06T08:39:23.1720749Z",
              "spark_jobs": null,
              "parent_msg_id": "94d316a8-b88e-42b9-856a-90ca44d8eddf"
            },
            "text/plain": "StatementMeta(myspark4lab, 10, 25, Finished, Available)"
          },
          "metadata": {}
        },
        {
          "output_type": "stream",
          "name": "stdout",
          "text": [
            "Número de filas en las que SibSp es nulo: 0\n"
          ]
        }
      ],
      "execution_count": 24,
      "metadata": {
        "jupyter": {
          "source_hidden": false,
          "outputs_hidden": false
        },
        "nteract": {
          "transient": {
            "deleting": false
          }
        }
      }
    },
    {
      "cell_type": "code",
      "source": [
        "grafico = sns.catplot(data=df_pd, x=\"SibSp\", kind=\"count\", palette='pastel', aspect=2)\r\n",
        " \r\n",
        "conteo = df_pd['SibSp'].value_counts().sort_index()\r\n",
        "colores_barras = [bar.get_facecolor() for bar in grafico.ax.patches]\r\n",
        " \r\n",
        "for i, patch in enumerate(grafico.ax.patches):\r\n",
        "    x = patch.get_x() + patch.get_width() / 2\r\n",
        "    y = patch.get_height()\r\n",
        "    texto = f'{conteo.index[i]} h/c: {conteo.iloc[i]}'\r\n",
        "    grafico.ax.annotate(texto, (x, y), ha='center', va='bottom', color='black')\r\n",
        " \r\n",
        "plt.xlabel('Número de hermanos y/o conyuges')\r\n",
        "plt.ylabel('Passenger count')\r\n",
        " \r\n",
        "plt.show()"
      ],
      "outputs": [
        {
          "output_type": "display_data",
          "data": {
            "application/vnd.livy.statement-meta+json": {
              "spark_pool": "myspark4lab",
              "session_id": "10",
              "statement_id": 26,
              "state": "finished",
              "livy_statement_state": "available",
              "queued_time": "2024-03-06T08:34:13.0390278Z",
              "session_start_time": null,
              "execution_start_time": "2024-03-06T08:39:23.3655159Z",
              "execution_finish_time": "2024-03-06T08:39:23.9391841Z",
              "spark_jobs": null,
              "parent_msg_id": "0a2f71f0-ba37-411a-b5f2-a44df0aea552"
            },
            "text/plain": "StatementMeta(myspark4lab, 10, 26, Finished, Available)"
          },
          "metadata": {}
        },
        {
          "output_type": "display_data",
          "data": {
            "text/plain": "<Figure size 1000x500 with 1 Axes>",
            "image/png": "[encoded data removed]"
          },
          "metadata": {}
        }
      ],
      "execution_count": 25,
      "metadata": {
        "jupyter": {
          "source_hidden": false,
          "outputs_hidden": false
        },
        "nteract": {
          "transient": {
            "deleting": false
          }
        }
      }
    },
    {
      "cell_type": "markdown",
      "source": [
        "Del anterior análisis se puede concluir que no hay valores faltantes y que los datos están desbalanceados: Hay un 68.24% de los pasajeros que viajaba sin hermanos o conyuges a bordo."
      ],
      "metadata": {
        "nteract": {
          "transient": {
            "deleting": false
          }
        }
      }
    },
    {
      "cell_type": "markdown",
      "source": [
        "### Análisis de Parch (Parents and Children)"
      ],
      "metadata": {
        "nteract": {
          "transient": {
            "deleting": false
          }
        }
      }
    },
    {
      "cell_type": "markdown",
      "source": [
        "Se trata del número de padres y/o hijos presentes abordo del Titanic.\r\n",
        "\r\n",
        "A continuación se procederá a analizar si presenta algún valor nulo y cómo se distribuyen las clases."
      ],
      "metadata": {
        "nteract": {
          "transient": {
            "deleting": false
          }
        }
      }
    },
    {
      "cell_type": "code",
      "source": [
        "aux = df.filter(df[\"Parch\"].isNull())\r\n",
        " \r\n",
        "print(f\"Número de filas en las que Parch es nulo: {aux.count()}\")"
      ],
      "outputs": [
        {
          "output_type": "display_data",
          "data": {
            "application/vnd.livy.statement-meta+json": {
              "spark_pool": "myspark4lab",
              "session_id": "10",
              "statement_id": 27,
              "state": "finished",
              "livy_statement_state": "available",
              "queued_time": "2024-03-06T08:34:13.0409834Z",
              "session_start_time": null,
              "execution_start_time": "2024-03-06T08:39:24.0862765Z",
              "execution_finish_time": "2024-03-06T08:39:24.6884701Z",
              "spark_jobs": null,
              "parent_msg_id": "15bdc115-e9f4-44f9-bc58-eaa3bda832bb"
            },
            "text/plain": "StatementMeta(myspark4lab, 10, 27, Finished, Available)"
          },
          "metadata": {}
        },
        {
          "output_type": "stream",
          "name": "stdout",
          "text": [
            "Número de filas en las que Parch es nulo: 0\n"
          ]
        }
      ],
      "execution_count": 26,
      "metadata": {
        "jupyter": {
          "source_hidden": false,
          "outputs_hidden": false
        },
        "nteract": {
          "transient": {
            "deleting": false
          }
        }
      }
    },
    {
      "cell_type": "code",
      "source": [
        "grafico = sns.catplot(data=df_pd, x=\"Parch\", kind=\"count\", palette='pastel', aspect=2)\r\n",
        " \r\n",
        "conteo = df_pd['Parch'].value_counts().sort_index()\r\n",
        "colores_barras = [bar.get_facecolor() for bar in grafico.ax.patches]\r\n",
        " \r\n",
        "for i, patch in enumerate(grafico.ax.patches):\r\n",
        "    x = patch.get_x() + patch.get_width() / 2\r\n",
        "    y = patch.get_height()\r\n",
        "    texto = f'{conteo.index[i]} p/h: {conteo.iloc[i]}'\r\n",
        "    grafico.ax.annotate(texto, (x, y), ha='center', va='bottom', color='black')\r\n",
        " \r\n",
        "plt.xlabel('Número de progenitores y/o hijos')\r\n",
        "plt.ylabel('Passenger count')\r\n",
        " \r\n",
        "plt.show()"
      ],
      "outputs": [
        {
          "output_type": "display_data",
          "data": {
            "application/vnd.livy.statement-meta+json": {
              "spark_pool": "myspark4lab",
              "session_id": "10",
              "statement_id": 28,
              "state": "finished",
              "livy_statement_state": "available",
              "queued_time": "2024-03-06T08:34:13.0426981Z",
              "session_start_time": null,
              "execution_start_time": "2024-03-06T08:39:24.8550568Z",
              "execution_finish_time": "2024-03-06T08:39:25.4895643Z",
              "spark_jobs": null,
              "parent_msg_id": "913886ef-ab36-4fad-a27c-4366be029909"
            },
            "text/plain": "StatementMeta(myspark4lab, 10, 28, Finished, Available)"
          },
          "metadata": {}
        },
        {
          "output_type": "display_data",
          "data": {
            "text/plain": "<Figure size 1000x500 with 1 Axes>",
            "image/png": "[encoded data removed]"
          },
          "metadata": {}
        }
      ],
      "execution_count": 27,
      "metadata": {
        "jupyter": {
          "source_hidden": false,
          "outputs_hidden": false
        },
        "nteract": {
          "transient": {
            "deleting": false
          }
        }
      }
    },
    {
      "cell_type": "markdown",
      "source": [
        "Del anterior análisis se puede concluir que no hay valores faltantes y que los datos están desbalanceados: Hay un 76.1% de los pasajeros viajaba sin progenitores o hijos a bordo.\r\n",
        "\r\n",
        "A partir de esta información, en conjunción con el análisis de SibSp, se puede concluir que la mayoría de pasajeros viajaban solos (o por lo menos no con familiares)."
      ],
      "metadata": {
        "nteract": {
          "transient": {
            "deleting": false
          }
        }
      }
    },
    {
      "cell_type": "markdown",
      "source": [
        "### Análisis de Fare"
      ],
      "metadata": {
        "nteract": {
          "transient": {
            "deleting": false
          }
        }
      }
    },
    {
      "cell_type": "markdown",
      "source": [
        "Se trata de la tarifa de los pasajeros.\r\n",
        "\r\n",
        "A continuación se procederá a analizar si presenta algún valor nulo y cómo se distribuyen las clases."
      ],
      "metadata": {
        "nteract": {
          "transient": {
            "deleting": false
          }
        }
      }
    },
    {
      "cell_type": "code",
      "source": [
        "aux = df.filter(df[\"Fare\"].isNull())\r\n",
        " \r\n",
        "print(f\"Número de filas en las que Fare es nulo: {aux.count()}\")"
      ],
      "outputs": [
        {
          "output_type": "display_data",
          "data": {
            "application/vnd.livy.statement-meta+json": {
              "spark_pool": "myspark4lab",
              "session_id": "10",
              "statement_id": 29,
              "state": "finished",
              "livy_statement_state": "available",
              "queued_time": "2024-03-06T08:34:13.0439915Z",
              "session_start_time": null,
              "execution_start_time": "2024-03-06T08:39:25.6614714Z",
              "execution_finish_time": "2024-03-06T08:39:26.2318755Z",
              "spark_jobs": null,
              "parent_msg_id": "e4292c0a-5dc6-4f2e-8425-808e91eb1761"
            },
            "text/plain": "StatementMeta(myspark4lab, 10, 29, Finished, Available)"
          },
          "metadata": {}
        },
        {
          "output_type": "stream",
          "name": "stdout",
          "text": [
            "Número de filas en las que Fare es nulo: 0\n"
          ]
        }
      ],
      "execution_count": 28,
      "metadata": {
        "jupyter": {
          "source_hidden": false,
          "outputs_hidden": false
        },
        "nteract": {
          "transient": {
            "deleting": false
          }
        }
      }
    },
    {
      "cell_type": "code",
      "source": [
        "bins = [50*i for i in range(12)]\r\n",
        " \r\n",
        "df_pd['Fare_Bin'] = pd.cut(df_pd['Fare'], bins=bins, right=False)\r\n",
        " \r\n",
        "conteo_por_bin = df_pd.groupby('Fare_Bin').size().reset_index(name='Count')\r\n",
        " \r\n",
        "grafico = sns.histplot(data=df_pd, x=\"Fare\", palette='pastel', bins=bins) \r\n",
        " \r\n",
        "for i, bar in enumerate(grafico.containers[0]):\r\n",
        "    x = bar.get_x() + bar.get_width() / 2\r\n",
        "    y = bar.get_height()\r\n",
        "\r\n",
        "\r\n",
        "    if conteo_por_bin['Count'].iloc[i] != 0:\r\n",
        "        plt.text(x, y, conteo_por_bin['Count'].iloc[i], ha='center', va='bottom', color='black')\r\n",
        " \r\n",
        "plt.xlabel('Fare')\r\n",
        "plt.ylabel('Passenger count')\r\n",
        "plt.show()"
      ],
      "outputs": [
        {
          "output_type": "display_data",
          "data": {
            "application/vnd.livy.statement-meta+json": {
              "spark_pool": "myspark4lab",
              "session_id": "10",
              "statement_id": 30,
              "state": "finished",
              "livy_statement_state": "available",
              "queued_time": "2024-03-06T08:34:16.5473868Z",
              "session_start_time": null,
              "execution_start_time": "2024-03-06T08:39:26.391993Z",
              "execution_finish_time": "2024-03-06T08:39:26.971576Z",
              "spark_jobs": null,
              "parent_msg_id": "18360cca-3e28-4b38-a5da-2b87c8047d80"
            },
            "text/plain": "StatementMeta(myspark4lab, 10, 30, Finished, Available)"
          },
          "metadata": {}
        },
        {
          "output_type": "display_data",
          "data": {
            "text/plain": "<Figure size 640x480 with 1 Axes>",
            "image/png": "[encoded data removed]"
          },
          "metadata": {}
        }
      ],
      "execution_count": 29,
      "metadata": {
        "jupyter": {
          "source_hidden": false,
          "outputs_hidden": false
        },
        "nteract": {
          "transient": {
            "deleting": false
          }
        }
      }
    },
    {
      "cell_type": "code",
      "source": [
        "for rango in sorted(df_pd.Fare_Bin.unique()):\r\n",
        "    precio_medio = df_pd[ df_pd.Fare_Bin == rango ].Fare.mean()\r\n",
        "    num_pasajeros = df_pd[ df_pd.Fare_Bin == rango ].shape[0]\r\n",
        "    print(f\"Rango {rango}, precio medio: {precio_medio:.2f} libras. Número de pasajeros en este rango: {num_pasajeros}.\")\r\n",
        "\r\n",
        "print(f\"Media global: {df_pd.Fare.mean():.2f} libras.\")"
      ],
      "outputs": [
        {
          "output_type": "display_data",
          "data": {
            "application/vnd.livy.statement-meta+json": {
              "spark_pool": "myspark4lab",
              "session_id": "10",
              "statement_id": 31,
              "state": "finished",
              "livy_statement_state": "available",
              "queued_time": "2024-03-06T08:34:17.2190639Z",
              "session_start_time": null,
              "execution_start_time": "2024-03-06T08:39:27.1161474Z",
              "execution_finish_time": "2024-03-06T08:39:27.2739543Z",
              "spark_jobs": null,
              "parent_msg_id": "0ba8bf19-2d05-448c-9138-8e3d7b9cde74"
            },
            "text/plain": "StatementMeta(myspark4lab, 10, 31, Finished, Available)"
          },
          "metadata": {}
        },
        {
          "output_type": "stream",
          "name": "stdout",
          "text": [
            "Rango [0, 50), precio medio: 15.50 libras. Número de pasajeros en este rango: 730.\nRango [50, 100), precio medio: 69.13 libras. Número de pasajeros en este rango: 108.\nRango [100, 150), precio medio: 122.09 libras. Número de pasajeros en este rango: 24.\nRango [150, 200), precio medio: 155.15 libras. Número de pasajeros en este rango: 9.\nRango [200, 250), precio medio: 224.77 libras. Número de pasajeros en este rango: 11.\nRango [250, 300), precio medio: 262.79 libras. Número de pasajeros en este rango: 6.\nRango [500, 550), precio medio: 512.33 libras. Número de pasajeros en este rango: 3.\nMedia global: 32.20 libras.\n"
          ]
        }
      ],
      "execution_count": 30,
      "metadata": {
        "jupyter": {
          "source_hidden": false,
          "outputs_hidden": false
        },
        "nteract": {
          "transient": {
            "deleting": false
          }
        }
      }
    },
    {
      "cell_type": "code",
      "source": [
        "df_pd.drop(columns=[\"Fare_Bin\"], inplace=True)"
      ],
      "outputs": [
        {
          "output_type": "display_data",
          "data": {
            "application/vnd.livy.statement-meta+json": {
              "spark_pool": "myspark4lab",
              "session_id": "10",
              "statement_id": 32,
              "state": "finished",
              "livy_statement_state": "available",
              "queued_time": "2024-03-06T08:34:17.3383501Z",
              "session_start_time": null,
              "execution_start_time": "2024-03-06T08:39:27.470989Z",
              "execution_finish_time": "2024-03-06T08:39:27.6364036Z",
              "spark_jobs": null,
              "parent_msg_id": "d8430352-ada9-4df9-b0ca-06631e76c944"
            },
            "text/plain": "StatementMeta(myspark4lab, 10, 32, Finished, Available)"
          },
          "metadata": {}
        }
      ],
      "execution_count": 31,
      "metadata": {
        "jupyter": {
          "source_hidden": false,
          "outputs_hidden": false
        },
        "nteract": {
          "transient": {
            "deleting": false
          }
        }
      }
    },
    {
      "cell_type": "markdown",
      "source": [
        "Del anterior análisis se puede concluir que no hay valores faltantes y que los datos están desbalanceados: Un 81.9% de los pasajeros totales pagaron billites relativamente baratos (15.50 libras) mientras que hay una minoría, un 0.33%, que pagaron de media 512.33 libras.\r\n",
        "De la gran diferencia de precio y número de pasajeros anterior se puede dilucidar que quizas estos pasajeros se traten de outliers que podría convenir eliminar."
      ],
      "metadata": {
        "nteract": {
          "transient": {
            "deleting": false
          }
        }
      }
    },
    {
      "cell_type": "markdown",
      "source": [
        "### Análisis de Embarked"
      ],
      "metadata": {
        "nteract": {
          "transient": {
            "deleting": false
          }
        }
      }
    },
    {
      "cell_type": "markdown",
      "source": [
        "Se trata del puerto de embarcación de los pasajeros.\r\n",
        "\r\n",
        "A continuación se procederá a analizar si presenta algún valor nulo y cómo se distribuyen las clases."
      ],
      "metadata": {
        "nteract": {
          "transient": {
            "deleting": false
          }
        }
      }
    },
    {
      "cell_type": "code",
      "source": [
        "aux = df.filter(df[\"Embarked\"].isNull())\r\n",
        " \r\n",
        "print(f\"Número de filas en las que Embarked es nulo: {aux.count()}\")"
      ],
      "outputs": [
        {
          "output_type": "display_data",
          "data": {
            "application/vnd.livy.statement-meta+json": {
              "spark_pool": "myspark4lab",
              "session_id": "10",
              "statement_id": 33,
              "state": "finished",
              "livy_statement_state": "available",
              "queued_time": "2024-03-06T08:34:17.4206288Z",
              "session_start_time": null,
              "execution_start_time": "2024-03-06T08:39:27.7926363Z",
              "execution_finish_time": "2024-03-06T08:39:28.3436277Z",
              "spark_jobs": null,
              "parent_msg_id": "95797e7d-0281-420d-9454-aa61266ace85"
            },
            "text/plain": "StatementMeta(myspark4lab, 10, 33, Finished, Available)"
          },
          "metadata": {}
        },
        {
          "output_type": "stream",
          "name": "stdout",
          "text": [
            "Número de filas en las que Embarked es nulo: 2\n"
          ]
        }
      ],
      "execution_count": 32,
      "metadata": {
        "jupyter": {
          "source_hidden": false,
          "outputs_hidden": false
        },
        "nteract": {
          "transient": {
            "deleting": false
          }
        }
      }
    },
    {
      "cell_type": "markdown",
      "source": [
        "Parece haber dos muestras sin embarked. Para solucionarlo se procederá a emplear el puerto más común como relleno."
      ],
      "metadata": {
        "nteract": {
          "transient": {
            "deleting": false
          }
        }
      }
    },
    {
      "cell_type": "code",
      "source": [
        "moda_Embarked = df_pd.Embarked.mode()[0]\r\n",
        "moda_Embarked"
      ],
      "outputs": [
        {
          "output_type": "display_data",
          "data": {
            "application/vnd.livy.statement-meta+json": {
              "spark_pool": "myspark4lab",
              "session_id": "10",
              "statement_id": 34,
              "state": "finished",
              "livy_statement_state": "available",
              "queued_time": "2024-03-06T08:34:17.5229523Z",
              "session_start_time": null,
              "execution_start_time": "2024-03-06T08:39:28.4973408Z",
              "execution_finish_time": "2024-03-06T08:39:28.6784583Z",
              "spark_jobs": null,
              "parent_msg_id": "2f4431bc-85c8-44c8-9204-732b4b49666a"
            },
            "text/plain": "StatementMeta(myspark4lab, 10, 34, Finished, Available)"
          },
          "metadata": {}
        },
        {
          "output_type": "execute_result",
          "execution_count": 69,
          "data": {
            "text/plain": "'S'"
          },
          "metadata": {}
        }
      ],
      "execution_count": 33,
      "metadata": {
        "jupyter": {
          "source_hidden": false,
          "outputs_hidden": false
        },
        "nteract": {
          "transient": {
            "deleting": false
          }
        }
      }
    },
    {
      "cell_type": "code",
      "source": [
        "df = df.fillna(moda_Embarked, subset=['Embarked'])"
      ],
      "outputs": [
        {
          "output_type": "display_data",
          "data": {
            "application/vnd.livy.statement-meta+json": {
              "spark_pool": "myspark4lab",
              "session_id": "10",
              "statement_id": 35,
              "state": "finished",
              "livy_statement_state": "available",
              "queued_time": "2024-03-06T08:34:17.6127206Z",
              "session_start_time": null,
              "execution_start_time": "2024-03-06T08:39:28.8387056Z",
              "execution_finish_time": "2024-03-06T08:39:29.0183906Z",
              "spark_jobs": null,
              "parent_msg_id": "7b6588d0-d1f9-4b4d-be66-70b702614178"
            },
            "text/plain": "StatementMeta(myspark4lab, 10, 35, Finished, Available)"
          },
          "metadata": {}
        }
      ],
      "execution_count": 34,
      "metadata": {
        "jupyter": {
          "source_hidden": false,
          "outputs_hidden": false
        },
        "nteract": {
          "transient": {
            "deleting": false
          }
        }
      }
    },
    {
      "cell_type": "code",
      "source": [
        "aux = df.filter(df[\"Embarked\"].isNull())\r\n",
        " \r\n",
        "print(f\"Número de filas en las que Embarked es nulo: {aux.count()}\")"
      ],
      "outputs": [
        {
          "output_type": "display_data",
          "data": {
            "application/vnd.livy.statement-meta+json": {
              "spark_pool": "myspark4lab",
              "session_id": "10",
              "statement_id": 36,
              "state": "finished",
              "livy_statement_state": "available",
              "queued_time": "2024-03-06T08:34:17.6950648Z",
              "session_start_time": null,
              "execution_start_time": "2024-03-06T08:39:29.2320033Z",
              "execution_finish_time": "2024-03-06T08:39:29.4631198Z",
              "spark_jobs": null,
              "parent_msg_id": "5c8f7a46-d904-459f-9d18-057c4d503298"
            },
            "text/plain": "StatementMeta(myspark4lab, 10, 36, Finished, Available)"
          },
          "metadata": {}
        },
        {
          "output_type": "stream",
          "name": "stdout",
          "text": [
            "Número de filas en las que Embarked es nulo: 0\n"
          ]
        }
      ],
      "execution_count": 35,
      "metadata": {
        "jupyter": {
          "source_hidden": false,
          "outputs_hidden": false
        },
        "nteract": {
          "transient": {
            "deleting": false
          }
        }
      }
    },
    {
      "cell_type": "markdown",
      "source": [
        "Por consistencia también se rellenará el DataFrame de Pandas."
      ],
      "metadata": {
        "nteract": {
          "transient": {
            "deleting": false
          }
        }
      }
    },
    {
      "cell_type": "code",
      "source": [
        "df_pd = df.toPandas()"
      ],
      "outputs": [
        {
          "output_type": "display_data",
          "data": {
            "application/vnd.livy.statement-meta+json": {
              "spark_pool": "myspark4lab",
              "session_id": "10",
              "statement_id": 37,
              "state": "finished",
              "livy_statement_state": "available",
              "queued_time": "2024-03-06T08:34:17.7864363Z",
              "session_start_time": null,
              "execution_start_time": "2024-03-06T08:39:29.6204747Z",
              "execution_finish_time": "2024-03-06T08:39:30.197859Z",
              "spark_jobs": null,
              "parent_msg_id": "a8023e78-08af-4785-b4fc-046dd0f912b8"
            },
            "text/plain": "StatementMeta(myspark4lab, 10, 37, Finished, Available)"
          },
          "metadata": {}
        }
      ],
      "execution_count": 36,
      "metadata": {
        "jupyter": {
          "source_hidden": false,
          "outputs_hidden": false
        },
        "nteract": {
          "transient": {
            "deleting": false
          }
        }
      }
    },
    {
      "cell_type": "code",
      "source": [
        "grafico = sns.catplot(data=df_pd, x=\"Embarked\", kind=\"count\", palette='pastel')\r\n",
        " \r\n",
        "conteo = df_pd['Embarked'].value_counts()\r\n",
        "colores_barras = [bar.get_facecolor() for bar in grafico.ax.patches]\r\n",
        " \r\n",
        "for i, patch in enumerate(grafico.ax.patches):\r\n",
        "    x = patch.get_x() + patch.get_width() / 2\r\n",
        "    y = patch.get_height()\r\n",
        "    texto = f'{conteo.index[i]}: {conteo.iloc[i]}'\r\n",
        "    grafico.ax.annotate(texto, (x, y), ha='center', va='bottom', color='black')\r\n",
        " \r\n",
        "plt.xlabel('Embarked')\r\n",
        "plt.ylabel('Passenger count')\r\n",
        " \r\n",
        "plt.show()"
      ],
      "outputs": [
        {
          "output_type": "display_data",
          "data": {
            "application/vnd.livy.statement-meta+json": {
              "spark_pool": "myspark4lab",
              "session_id": "10",
              "statement_id": 38,
              "state": "finished",
              "livy_statement_state": "available",
              "queued_time": "2024-03-06T08:34:17.8724464Z",
              "session_start_time": null,
              "execution_start_time": "2024-03-06T08:39:30.3548655Z",
              "execution_finish_time": "2024-03-06T08:39:30.5367675Z",
              "spark_jobs": null,
              "parent_msg_id": "4fbfc457-3ed2-4bb2-a063-4a10360f1c65"
            },
            "text/plain": "StatementMeta(myspark4lab, 10, 38, Finished, Available)"
          },
          "metadata": {}
        },
        {
          "output_type": "display_data",
          "data": {
            "text/plain": "<Figure size 500x500 with 1 Axes>",
            "image/png": "[encoded data removed]"
          },
          "metadata": {}
        }
      ],
      "execution_count": 37,
      "metadata": {
        "jupyter": {
          "source_hidden": false,
          "outputs_hidden": false
        },
        "nteract": {
          "transient": {
            "deleting": false
          }
        }
      }
    },
    {
      "cell_type": "markdown",
      "source": [
        "Del anterior análisis se puede concluir que no hay valores faltantes y que los datos están desbalanceados: \r\n",
        "\r\n",
        "Hay un 72.5% de los pasajeros que subieron a bordo en el puerto de Southampton, un 18.85% en Cherbourg y un 8.65% en el de Queenstown."
      ],
      "metadata": {
        "nteract": {
          "transient": {
            "deleting": false
          }
        }
      }
    },
    {
      "cell_type": "markdown",
      "source": [
        "### Salvado final de los datos"
      ],
      "metadata": {
        "nteract": {
          "transient": {
            "deleting": false
          }
        }
      }
    },
    {
      "cell_type": "markdown",
      "source": [
        "Habiendo analizado y limpiado ya los datos, procedemos a su salvado en Azure para poder utilizarlos posteriormente en el entrenamiento del modelo o en otros menesteres."
      ],
      "metadata": {
        "nteract": {
          "transient": {
            "deleting": false
          }
        }
      }
    },
    {
      "cell_type": "code",
      "source": [
        "df.write.csv(\"abfss://fsvrhjamm@datalakevrhjamm.dfs.core.windows.net/PracticaTitanic/DatosTitanicTratados.csv\", \r\n",
        "header=True, mode=\"overwrite\")"
      ],
      "outputs": [
        {
          "output_type": "display_data",
          "data": {
            "application/vnd.livy.statement-meta+json": {
              "spark_pool": "myspark4lab",
              "session_id": "10",
              "statement_id": 40,
              "state": "finished",
              "livy_statement_state": "available",
              "queued_time": "2024-03-06T08:39:56.7003121Z",
              "session_start_time": null,
              "execution_start_time": "2024-03-06T08:39:56.8962241Z",
              "execution_finish_time": "2024-03-06T08:39:59.7490434Z",
              "spark_jobs": null,
              "parent_msg_id": "32850d83-ce8e-46dc-8761-0840c07742b0"
            },
            "text/plain": "StatementMeta(myspark4lab, 10, 40, Finished, Available)"
          },
          "metadata": {}
        }
      ],
      "execution_count": 39,
      "metadata": {
        "jupyter": {
          "source_hidden": false,
          "outputs_hidden": false
        },
        "nteract": {
          "transient": {
            "deleting": false
          }
        }
      }
    },
    {
      "cell_type": "markdown",
      "source": [
        "Esta celda de código se utiliza para crear una base de datos con los datos del Titanic a fin de intentar crear una conexión con PowerBi."
      ],
      "metadata": {
        "nteract": {
          "transient": {
            "deleting": false
          }
        }
      }
    },
    {
      "cell_type": "markdown",
      "source": [
        "### Análisis de correlación entre las variables"
      ],
      "metadata": {
        "nteract": {
          "transient": {
            "deleting": false
          }
        }
      }
    },
    {
      "cell_type": "markdown",
      "source": [
        "De cara a determinar si existe alguna relación entre las variables existentes que deba tenerse en cuenta, hemos optado por realizar un análisis de correlación y visualizar la distribución de cada pareja de variables de manera gráfica."
      ],
      "metadata": {
        "nteract": {
          "transient": {
            "deleting": false
          }
        }
      }
    },
    {
      "cell_type": "code",
      "source": [
        "df_pd.dtypes"
      ],
      "outputs": [
        {
          "output_type": "display_data",
          "data": {
            "application/vnd.livy.statement-meta+json": {
              "spark_pool": "myspark4lab",
              "session_id": "7",
              "statement_id": 43,
              "state": "finished",
              "livy_statement_state": "available",
              "queued_time": "2024-03-04T16:45:35.990777Z",
              "session_start_time": null,
              "execution_start_time": "2024-03-04T16:45:36.1961258Z",
              "execution_finish_time": "2024-03-04T16:45:36.3897933Z",
              "spark_jobs": null,
              "parent_msg_id": "09f32382-60f9-4959-b896-e0fb1ce42b25"
            },
            "text/plain": "StatementMeta(myspark4lab, 7, 43, Finished, Available)"
          },
          "metadata": {}
        },
        {
          "output_type": "execute_result",
          "execution_count": 87,
          "data": {
            "text/plain": "Survived      int32\nPclass        int32\nSex          object\nAge         float64\nSibSp         int32\nParch         int32\nFare        float64\nEmbarked     object\ndtype: object"
          },
          "metadata": {}
        }
      ],
      "execution_count": 42,
      "metadata": {
        "jupyter": {
          "source_hidden": false,
          "outputs_hidden": false
        },
        "nteract": {
          "transient": {
            "deleting": false
          }
        }
      }
    },
    {
      "cell_type": "code",
      "source": [
        "columnas_numericas = df_pd.select_dtypes(include=['float64', 'int32'])\r\n",
        "correlation_matrix = columnas_numericas.corr()\r\n",
        "plt.figure(figsize=(10, 8))\r\n",
        "sns.heatmap(correlation_matrix, annot=True, cmap='coolwarm', fmt=\".2f\", linewidths=.5)\r\n",
        "plt.title('Matriz de Correlación')\r\n",
        "plt.show()"
      ],
      "outputs": [
        {
          "output_type": "display_data",
          "data": {
            "application/vnd.livy.statement-meta+json": {
              "spark_pool": "myspark4lab",
              "session_id": "7",
              "statement_id": 44,
              "state": "finished",
              "livy_statement_state": "available",
              "queued_time": "2024-03-04T16:46:06.1352729Z",
              "session_start_time": null,
              "execution_start_time": "2024-03-04T16:46:06.3287426Z",
              "execution_finish_time": "2024-03-04T16:46:06.9206119Z",
              "spark_jobs": null,
              "parent_msg_id": "f2e5e6c8-51b2-4eb0-a51b-4b3790cd4015"
            },
            "text/plain": "StatementMeta(myspark4lab, 7, 44, Finished, Available)"
          },
          "metadata": {}
        },
        {
          "output_type": "display_data",
          "data": {
            "text/plain": "<Figure size 1000x800 with 2 Axes>",
            "image/png": "[encoded data removed]"
          },
          "metadata": {}
        }
      ],
      "execution_count": 43,
      "metadata": {
        "jupyter": {
          "source_hidden": false,
          "outputs_hidden": false
        },
        "nteract": {
          "transient": {
            "deleting": false
          }
        }
      }
    },
    {
      "cell_type": "markdown",
      "source": [
        "Algunas de las correlaciones más interesantes que se pueden observar son:\r\n",
        "- La correlación negativa entre `Pclass` y `Fare`. Indica que, cuanto mayor es el número de clase más barato es el billete. Aunque esto en un principio pueda resultar confuso hay que recordar que la primera clase es, numéricamente, inferior a la tercera clase.\r\n",
        "- La correlación positiva entre `Parch` y `SibSp`. Esta correlación indica que, cuando una persona es acompañada por sus padres o hijos, también suele estar acompañada por sus hermanos y conyuges.\r\n",
        "- La correlación negativa entre `Pclass` y `Survived`. Siguiendo la misma logica explicada en la primera relación, a mejor clase más probabilidades de sobrevivir."
      ],
      "metadata": {
        "nteract": {
          "transient": {
            "deleting": false
          }
        }
      }
    },
    {
      "cell_type": "code",
      "source": [
        "sns.pairplot(data=df_pd, diag_kind='kde')"
      ],
      "outputs": [
        {
          "output_type": "display_data",
          "data": {
            "application/vnd.livy.statement-meta+json": {
              "spark_pool": "myspark4lab",
              "session_id": "7",
              "statement_id": 45,
              "state": "finished",
              "livy_statement_state": "available",
              "queued_time": "2024-03-04T16:47:12.1352853Z",
              "session_start_time": null,
              "execution_start_time": "2024-03-04T16:47:12.3342846Z",
              "execution_finish_time": "2024-03-04T16:47:21.2996775Z",
              "spark_jobs": null,
              "parent_msg_id": "c6f1b1bb-eb99-4d9d-9cbb-1fc7233e644f"
            },
            "text/plain": "StatementMeta(myspark4lab, 7, 45, Finished, Available)"
          },
          "metadata": {}
        },
        {
          "output_type": "execute_result",
          "execution_count": 91,
          "data": {
            "text/plain": "<seaborn.axisgrid.PairGrid at 0x7f91a6b9a2c0>"
          },
          "metadata": {}
        },
        {
          "output_type": "display_data",
          "data": {
            "text/plain": "<Figure size 1500x1500 with 42 Axes>",
            "image/png": "[encoded data removed]"
          },
          "metadata": {}
        }
      ],
      "execution_count": 44,
      "metadata": {
        "jupyter": {
          "source_hidden": false,
          "outputs_hidden": false
        },
        "nteract": {
          "transient": {
            "deleting": false
          }
        }
      }
    },
    {
      "cell_type": "markdown",
      "source": [
        "## Análisis en profundidad de los datos: SQL"
      ],
      "metadata": {
        "nteract": {
          "transient": {
            "deleting": false
          }
        }
      }
    },
    {
      "cell_type": "markdown",
      "source": [
        "En esta sección se realizarán algunas consultas SQL sobre los datos a fin de investigar algunas tendencias y posibles relaciones entre las distintas variables."
      ],
      "metadata": {
        "nteract": {
          "transient": {
            "deleting": false
          }
        }
      }
    },
    {
      "cell_type": "code",
      "source": [
        "df.createOrReplaceTempView(\"pasajeros_titanic\")"
      ],
      "outputs": [
        {
          "output_type": "display_data",
          "data": {
            "application/vnd.livy.statement-meta+json": {
              "spark_pool": "myspark4lab",
              "session_id": "7",
              "statement_id": 46,
              "state": "finished",
              "livy_statement_state": "available",
              "queued_time": "2024-03-04T16:47:12.1942542Z",
              "session_start_time": null,
              "execution_start_time": "2024-03-04T16:47:21.476214Z",
              "execution_finish_time": "2024-03-04T16:47:21.6574061Z",
              "spark_jobs": null,
              "parent_msg_id": "85d8e5b0-9d3c-498e-b914-54dc1f07214b"
            },
            "text/plain": "StatementMeta(myspark4lab, 7, 46, Finished, Available)"
          },
          "metadata": {}
        }
      ],
      "execution_count": 45,
      "metadata": {
        "jupyter": {
          "source_hidden": false,
          "outputs_hidden": false
        },
        "nteract": {
          "transient": {
            "deleting": false
          }
        }
      }
    },
    {
      "cell_type": "markdown",
      "source": [
        "#### Tasa de supervivencia por género:"
      ],
      "metadata": {
        "nteract": {
          "transient": {
            "deleting": false
          }
        }
      }
    },
    {
      "cell_type": "code",
      "source": [
        "%%sql\r\n",
        "SELECT Sex, COUNT(*) AS total_pasajeros, SUM(Survived) AS total_sobrevivieron, round(SUM(Survived)*100.0/COUNT(*), 2) AS tasa_supervivencia_porcentaje\r\n",
        "FROM pasajeros_titanic\r\n",
        "GROUP BY Sex"
      ],
      "outputs": [
        {
          "output_type": "display_data",
          "data": {
            "application/vnd.livy.statement-meta+json": {
              "spark_pool": "myspark4lab",
              "session_id": "7",
              "statement_id": 57,
              "state": "finished",
              "livy_statement_state": "available",
              "queued_time": "2024-03-04T16:56:25.5875891Z",
              "session_start_time": null,
              "execution_start_time": "2024-03-04T16:56:25.7490892Z",
              "execution_finish_time": "2024-03-04T16:56:27.036931Z",
              "spark_jobs": null,
              "parent_msg_id": "e25869b7-10e4-4727-bd5f-bd18b6f2bf65"
            },
            "text/plain": "StatementMeta(myspark4lab, 7, 57, Finished, Available)"
          },
          "metadata": {}
        },
        {
          "output_type": "execute_result",
          "execution_count": 56,
          "data": {
            "application/vnd.synapse.sparksql-result+json": {
              "schema": {
                "type": "struct",
                "fields": [
                  {
                    "name": "Sex",
                    "type": "string",
                    "nullable": true,
                    "metadata": {}
                  },
                  {
                    "name": "total_pasajeros",
                    "type": "long",
                    "nullable": false,
                    "metadata": {}
                  },
                  {
                    "name": "total_sobrevivieron",
                    "type": "long",
                    "nullable": true,
                    "metadata": {}
                  },
                  {
                    "name": "tasa_supervivencia_porcentaje",
                    "type": "decimal(27,2)",
                    "nullable": true,
                    "metadata": {}
                  }
                ]
              },
              "data": [
                [
                  "female",
                  "314",
                  "233",
                  "74.20"
                ],
                [
                  "male",
                  "577",
                  "109",
                  "18.89"
                ]
              ]
            },
            "text/plain": "<Spark SQL result set with 2 rows and 4 fields>"
          },
          "metadata": {}
        }
      ],
      "execution_count": 56,
      "metadata": {
        "jupyter": {
          "source_hidden": false,
          "outputs_hidden": false
        },
        "nteract": {
          "transient": {
            "deleting": false
          }
        },
        "microsoft": {
          "language": "sparksql"
        },
        "collapsed": false
      }
    },
    {
      "cell_type": "markdown",
      "source": [
        "De los resultados anteriores se puede concluir que las mujeres tuvieron una mayor tasa de supervivencia que los hombres."
      ],
      "metadata": {
        "nteract": {
          "transient": {
            "deleting": false
          }
        }
      }
    },
    {
      "cell_type": "markdown",
      "source": [
        "#### Tasa de supervivencia por clase de ticket:"
      ],
      "metadata": {
        "nteract": {
          "transient": {
            "deleting": false
          }
        }
      }
    },
    {
      "cell_type": "code",
      "source": [
        "%%sql\r\n",
        "SELECT Pclass,\r\n",
        "    COUNT(*) AS total_pasajeros,\r\n",
        "    SUM(Survived) AS total_sobrevivieron,\r\n",
        "    round(SUM(Survived)*100.0 / COUNT(*), 2) AS tasa_supervivencia_porcentaje\r\n",
        "FROM pasajeros_titanic\r\n",
        "GROUP BY Pclass"
      ],
      "outputs": [
        {
          "output_type": "display_data",
          "data": {
            "application/vnd.livy.statement-meta+json": {
              "spark_pool": "myspark4lab",
              "session_id": "7",
              "statement_id": 58,
              "state": "finished",
              "livy_statement_state": "available",
              "queued_time": "2024-03-04T16:57:52.4653901Z",
              "session_start_time": null,
              "execution_start_time": "2024-03-04T16:57:52.6638198Z",
              "execution_finish_time": "2024-03-04T16:57:53.8564887Z",
              "spark_jobs": null,
              "parent_msg_id": "78505e5b-cb65-4933-9225-3e2130a15274"
            },
            "text/plain": "StatementMeta(myspark4lab, 7, 58, Finished, Available)"
          },
          "metadata": {}
        },
        {
          "output_type": "execute_result",
          "execution_count": 57,
          "data": {
            "application/vnd.synapse.sparksql-result+json": {
              "schema": {
                "type": "struct",
                "fields": [
                  {
                    "name": "Pclass",
                    "type": "integer",
                    "nullable": true,
                    "metadata": {}
                  },
                  {
                    "name": "total_pasajeros",
                    "type": "long",
                    "nullable": false,
                    "metadata": {}
                  },
                  {
                    "name": "total_sobrevivieron",
                    "type": "long",
                    "nullable": true,
                    "metadata": {}
                  },
                  {
                    "name": "tasa_supervivencia_porcentaje",
                    "type": "decimal(27,2)",
                    "nullable": true,
                    "metadata": {}
                  }
                ]
              },
              "data": [
                [
                  1,
                  "216",
                  "136",
                  "62.96"
                ],
                [
                  3,
                  "491",
                  "119",
                  "24.24"
                ],
                [
                  2,
                  "184",
                  "87",
                  "47.28"
                ]
              ]
            },
            "text/plain": "<Spark SQL result set with 3 rows and 4 fields>"
          },
          "metadata": {}
        }
      ],
      "execution_count": 57,
      "metadata": {
        "jupyter": {
          "source_hidden": false,
          "outputs_hidden": false
        },
        "nteract": {
          "transient": {
            "deleting": false
          }
        },
        "microsoft": {
          "language": "sparksql"
        },
        "collapsed": false
      }
    },
    {
      "cell_type": "markdown",
      "source": [
        "De los resultados anteriores se puede concluir que la supervivencia de los pasajeros estaba ligada a su clase. A mayor clase mayor supervivencia."
      ],
      "metadata": {
        "nteract": {
          "transient": {
            "deleting": false
          }
        }
      }
    },
    {
      "cell_type": "markdown",
      "source": [
        "#### Edad promedio de los pasajeros que sobrevivieron y los que no sobrevivieron:"
      ],
      "metadata": {
        "nteract": {
          "transient": {
            "deleting": false
          }
        }
      }
    },
    {
      "cell_type": "code",
      "source": [
        "%%sql\r\n",
        "SELECT Survived,\r\n",
        "    round(AVG(Age), 0) AS edad_promedio\r\n",
        "FROM pasajeros_titanic\r\n",
        "GROUP BY Survived"
      ],
      "outputs": [
        {
          "output_type": "display_data",
          "data": {
            "application/vnd.livy.statement-meta+json": {
              "spark_pool": "myspark4lab",
              "session_id": "7",
              "statement_id": 61,
              "state": "finished",
              "livy_statement_state": "available",
              "queued_time": "2024-03-04T17:00:46.1012392Z",
              "session_start_time": null,
              "execution_start_time": "2024-03-04T17:00:46.3144406Z",
              "execution_finish_time": "2024-03-04T17:00:47.481322Z",
              "spark_jobs": null,
              "parent_msg_id": "cf51cb94-395b-4402-8d15-4a868e8e610d"
            },
            "text/plain": "StatementMeta(myspark4lab, 7, 61, Finished, Available)"
          },
          "metadata": {}
        },
        {
          "output_type": "execute_result",
          "execution_count": 60,
          "data": {
            "application/vnd.synapse.sparksql-result+json": {
              "schema": {
                "type": "struct",
                "fields": [
                  {
                    "name": "Survived",
                    "type": "integer",
                    "nullable": true,
                    "metadata": {}
                  },
                  {
                    "name": "edad_promedio",
                    "type": "double",
                    "nullable": true,
                    "metadata": {}
                  }
                ]
              },
              "data": [
                [
                  1,
                  29
                ],
                [
                  0,
                  30
                ]
              ]
            },
            "text/plain": "<Spark SQL result set with 2 rows and 2 fields>"
          },
          "metadata": {}
        }
      ],
      "execution_count": 60,
      "metadata": {
        "jupyter": {
          "source_hidden": false,
          "outputs_hidden": false
        },
        "nteract": {
          "transient": {
            "deleting": false
          }
        },
        "microsoft": {
          "language": "sparksql"
        },
        "collapsed": false
      }
    },
    {
      "cell_type": "markdown",
      "source": [
        "De los resultados anteriores se puede concluir que los pasajeros que sobrevivieron eran, de media, ligeramente más jovenes (1 año)."
      ],
      "metadata": {
        "nteract": {
          "transient": {
            "deleting": false
          }
        }
      }
    },
    {
      "cell_type": "markdown",
      "source": [
        "#### Tarifa promedio pagada por clase de ticket y puerto de embarque:\r\n"
      ],
      "metadata": {
        "nteract": {
          "transient": {
            "deleting": false
          }
        }
      }
    },
    {
      "cell_type": "code",
      "source": [
        "%%sql\r\n",
        "SELECT Embarked,\r\n",
        "    round(AVG(Fare), 2) AS tarifa_promedio\r\n",
        "FROM pasajeros_titanic\r\n",
        "GROUP BY Embarked"
      ],
      "outputs": [
        {
          "output_type": "display_data",
          "data": {
            "application/vnd.livy.statement-meta+json": {
              "spark_pool": "myspark4lab",
              "session_id": "7",
              "statement_id": 62,
              "state": "finished",
              "livy_statement_state": "available",
              "queued_time": "2024-03-04T17:02:02.9020118Z",
              "session_start_time": null,
              "execution_start_time": "2024-03-04T17:02:03.0938087Z",
              "execution_finish_time": "2024-03-04T17:02:04.2363059Z",
              "spark_jobs": null,
              "parent_msg_id": "e6ba7705-0ab9-450a-94bc-28b2b0425e8c"
            },
            "text/plain": "StatementMeta(myspark4lab, 7, 62, Finished, Available)"
          },
          "metadata": {}
        },
        {
          "output_type": "execute_result",
          "execution_count": 61,
          "data": {
            "application/vnd.synapse.sparksql-result+json": {
              "schema": {
                "type": "struct",
                "fields": [
                  {
                    "name": "Embarked",
                    "type": "string",
                    "nullable": false,
                    "metadata": {}
                  },
                  {
                    "name": "tarifa_promedio",
                    "type": "double",
                    "nullable": true,
                    "metadata": {}
                  }
                ]
              },
              "data": [
                [
                  "Q",
                  13.28
                ],
                [
                  "C",
                  59.95
                ],
                [
                  "S",
                  27.24
                ]
              ]
            },
            "text/plain": "<Spark SQL result set with 3 rows and 2 fields>"
          },
          "metadata": {}
        }
      ],
      "execution_count": 61,
      "metadata": {
        "jupyter": {
          "source_hidden": false,
          "outputs_hidden": false
        },
        "nteract": {
          "transient": {
            "deleting": false
          }
        },
        "microsoft": {
          "language": "sparksql"
        },
        "collapsed": false
      }
    },
    {
      "cell_type": "markdown",
      "source": [
        "De los resultados anteriores se puede concluir que el embarcadero con la mayor tarifa es \"C\" (Cherbourg)."
      ],
      "metadata": {
        "nteract": {
          "transient": {
            "deleting": false
          }
        }
      }
    },
    {
      "cell_type": "code",
      "source": [
        "%%sql\r\n",
        "SELECT Embarked, Pclass, count(*) as total_pasajeros\r\n",
        "FROM pasajeros_titanic\r\n",
        "GROUP BY Embarked, Pclass\r\n",
        "ORDER BY Embarked"
      ],
      "outputs": [
        {
          "output_type": "display_data",
          "data": {
            "application/vnd.livy.statement-meta+json": {
              "spark_pool": "myspark4lab",
              "session_id": "7",
              "statement_id": 65,
              "state": "finished",
              "livy_statement_state": "available",
              "queued_time": "2024-03-04T17:04:36.4567634Z",
              "session_start_time": null,
              "execution_start_time": "2024-03-04T17:04:36.633836Z",
              "execution_finish_time": "2024-03-04T17:04:37.7575868Z",
              "spark_jobs": null,
              "parent_msg_id": "4837c2bd-bd11-4ee2-a9f7-2ca29a7ff194"
            },
            "text/plain": "StatementMeta(myspark4lab, 7, 65, Finished, Available)"
          },
          "metadata": {}
        },
        {
          "output_type": "execute_result",
          "execution_count": 64,
          "data": {
            "application/vnd.synapse.sparksql-result+json": {
              "schema": {
                "type": "struct",
                "fields": [
                  {
                    "name": "Embarked",
                    "type": "string",
                    "nullable": false,
                    "metadata": {}
                  },
                  {
                    "name": "Pclass",
                    "type": "integer",
                    "nullable": true,
                    "metadata": {}
                  },
                  {
                    "name": "total_pasajeros",
                    "type": "long",
                    "nullable": false,
                    "metadata": {}
                  }
                ]
              },
              "data": [
                [
                  "C",
                  3,
                  "66"
                ],
                [
                  "C",
                  2,
                  "17"
                ],
                [
                  "C",
                  1,
                  "85"
                ],
                [
                  "Q",
                  3,
                  "72"
                ],
                [
                  "Q",
                  1,
                  "2"
                ],
                [
                  "Q",
                  2,
                  "3"
                ],
                [
                  "S",
                  2,
                  "164"
                ],
                [
                  "S",
                  3,
                  "353"
                ],
                [
                  "S",
                  1,
                  "129"
                ]
              ]
            },
            "text/plain": "<Spark SQL result set with 9 rows and 3 fields>"
          },
          "metadata": {}
        }
      ],
      "execution_count": 64,
      "metadata": {
        "jupyter": {
          "source_hidden": false,
          "outputs_hidden": false
        },
        "nteract": {
          "transient": {
            "deleting": false
          }
        },
        "microsoft": {
          "language": "sparksql"
        },
        "collapsed": false
      }
    },
    {
      "cell_type": "markdown",
      "source": [
        "Con esta nueva observación se puede explicar que Cherbourg sea el embarcadero con la tarifa media más alta, ya que en ese embarcadero se subieron más personas de primera clase que del resto de clases combinadas, elevando el precio de la tarifa media."
      ],
      "metadata": {
        "nteract": {
          "transient": {
            "deleting": false
          }
        }
      }
    },
    {
      "cell_type": "markdown",
      "source": [
        "#### Edad promedio de los pasajeros por clase de ticket y género:"
      ],
      "metadata": {
        "nteract": {
          "transient": {
            "deleting": false
          }
        }
      }
    },
    {
      "cell_type": "code",
      "source": [
        "%%sql\r\n",
        "SELECT Pclass, Sex, round(AVG(Age), 0) AS edad_promedio\r\n",
        "FROM pasajeros_titanic\r\n",
        "GROUP BY Pclass, Sex\r\n",
        "ORDER BY Pclass"
      ],
      "outputs": [
        {
          "output_type": "display_data",
          "data": {
            "application/vnd.livy.statement-meta+json": {
              "spark_pool": "myspark4lab",
              "session_id": "7",
              "statement_id": 67,
              "state": "finished",
              "livy_statement_state": "available",
              "queued_time": "2024-03-04T17:07:31.2046167Z",
              "session_start_time": null,
              "execution_start_time": "2024-03-04T17:07:31.35449Z",
              "execution_finish_time": "2024-03-04T17:07:32.4827329Z",
              "spark_jobs": null,
              "parent_msg_id": "1d32b965-fe6e-467e-a03c-5810164f44c6"
            },
            "text/plain": "StatementMeta(myspark4lab, 7, 67, Finished, Available)"
          },
          "metadata": {}
        },
        {
          "output_type": "execute_result",
          "execution_count": 66,
          "data": {
            "application/vnd.synapse.sparksql-result+json": {
              "schema": {
                "type": "struct",
                "fields": [
                  {
                    "name": "Pclass",
                    "type": "integer",
                    "nullable": true,
                    "metadata": {}
                  },
                  {
                    "name": "Sex",
                    "type": "string",
                    "nullable": true,
                    "metadata": {}
                  },
                  {
                    "name": "edad_promedio",
                    "type": "double",
                    "nullable": true,
                    "metadata": {}
                  }
                ]
              },
              "data": [
                [
                  1,
                  "female",
                  34
                ],
                [
                  1,
                  "male",
                  39
                ],
                [
                  2,
                  "female",
                  29
                ],
                [
                  2,
                  "male",
                  31
                ],
                [
                  3,
                  "male",
                  27
                ],
                [
                  3,
                  "female",
                  24
                ]
              ]
            },
            "text/plain": "<Spark SQL result set with 6 rows and 3 fields>"
          },
          "metadata": {}
        }
      ],
      "execution_count": 66,
      "metadata": {
        "jupyter": {
          "source_hidden": false,
          "outputs_hidden": false
        },
        "nteract": {
          "transient": {
            "deleting": false
          }
        },
        "microsoft": {
          "language": "sparksql"
        },
        "collapsed": false
      }
    },
    {
      "cell_type": "markdown",
      "source": [
        "De los resultados anteriores se puede concluir que los pasajeros de mayor clase eran de media mayores en edad."
      ],
      "metadata": {
        "nteract": {
          "transient": {
            "deleting": false
          }
        }
      }
    },
    {
      "cell_type": "markdown",
      "source": [
        "#### Cantidad de pasajeros que viajaban solos versus aquellos que viajaban con familia (es decir, tenían hermanos, cónyuges, padres o hijos a bordo):"
      ],
      "metadata": {
        "nteract": {
          "transient": {
            "deleting": false
          }
        }
      }
    },
    {
      "cell_type": "code",
      "source": [
        "%%sql\r\n",
        "SELECT CASE\r\n",
        "    WHEN (SibSp + Parch) = 0 THEN 'Solo'\r\n",
        "    ELSE 'Con familia'\r\n",
        "    END AS tipo_viaje, COUNT(*) AS total_pasajeros\r\n",
        "FROM pasajeros_titanic\r\n",
        "GROUP BY tipo_viaje"
      ],
      "outputs": [
        {
          "output_type": "display_data",
          "data": {
            "application/vnd.livy.statement-meta+json": {
              "spark_pool": "myspark4lab",
              "session_id": "7",
              "statement_id": 73,
              "state": "finished",
              "livy_statement_state": "available",
              "queued_time": "2024-03-04T17:14:36.6607824Z",
              "session_start_time": null,
              "execution_start_time": "2024-03-04T17:14:36.8623947Z",
              "execution_finish_time": "2024-03-04T17:14:37.9622509Z",
              "spark_jobs": null,
              "parent_msg_id": "0dfc4021-e0a8-4183-bb06-b28c34b4dbb9"
            },
            "text/plain": "StatementMeta(myspark4lab, 7, 73, Finished, Available)"
          },
          "metadata": {}
        },
        {
          "output_type": "execute_result",
          "execution_count": 72,
          "data": {
            "application/vnd.synapse.sparksql-result+json": {
              "schema": {
                "type": "struct",
                "fields": [
                  {
                    "name": "tipo_viaje",
                    "type": "string",
                    "nullable": false,
                    "metadata": {}
                  },
                  {
                    "name": "total_pasajeros",
                    "type": "long",
                    "nullable": false,
                    "metadata": {}
                  }
                ]
              },
              "data": [
                [
                  "Con familia",
                  "354"
                ],
                [
                  "Solo",
                  "537"
                ]
              ]
            },
            "text/plain": "<Spark SQL result set with 2 rows and 2 fields>"
          },
          "metadata": {}
        }
      ],
      "execution_count": 72,
      "metadata": {
        "jupyter": {
          "source_hidden": false,
          "outputs_hidden": false
        },
        "nteract": {
          "transient": {
            "deleting": false
          }
        },
        "microsoft": {
          "language": "sparksql"
        },
        "collapsed": false
      }
    },
    {
      "cell_type": "markdown",
      "source": [
        "De los resultados anteriores se puede concluir que, si bien la mayoría de pasajeros viajaban solos, un no despreciable 40% viajaba con familia."
      ],
      "metadata": {
        "nteract": {
          "transient": {
            "deleting": false
          }
        }
      }
    },
    {
      "cell_type": "code",
      "source": [
        "%%sql\r\n",
        "SELECT Survived, CASE\r\n",
        "    WHEN (SibSp + Parch) = 0 THEN 'Solo'\r\n",
        "    ELSE 'Con familia'\r\n",
        "    END AS tipo_viaje, COUNT(*) AS total_pasajeros\r\n",
        "FROM pasajeros_titanic\r\n",
        "GROUP BY tipo_viaje, Survived\r\n",
        "ORDER BY tipo_viaje"
      ],
      "outputs": [
        {
          "output_type": "display_data",
          "data": {
            "application/vnd.livy.statement-meta+json": {
              "spark_pool": "myspark4lab",
              "session_id": "7",
              "statement_id": 74,
              "state": "finished",
              "livy_statement_state": "available",
              "queued_time": "2024-03-04T17:14:44.2703814Z",
              "session_start_time": null,
              "execution_start_time": "2024-03-04T17:14:44.4242949Z",
              "execution_finish_time": "2024-03-04T17:14:45.5382178Z",
              "spark_jobs": null,
              "parent_msg_id": "48dba0c0-9c09-4de4-9b32-c2265cee202a"
            },
            "text/plain": "StatementMeta(myspark4lab, 7, 74, Finished, Available)"
          },
          "metadata": {}
        },
        {
          "output_type": "execute_result",
          "execution_count": 73,
          "data": {
            "application/vnd.synapse.sparksql-result+json": {
              "schema": {
                "type": "struct",
                "fields": [
                  {
                    "name": "Survived",
                    "type": "integer",
                    "nullable": true,
                    "metadata": {}
                  },
                  {
                    "name": "tipo_viaje",
                    "type": "string",
                    "nullable": false,
                    "metadata": {}
                  },
                  {
                    "name": "total_pasajeros",
                    "type": "long",
                    "nullable": false,
                    "metadata": {}
                  }
                ]
              },
              "data": [
                [
                  1,
                  "Con familia",
                  "179"
                ],
                [
                  0,
                  "Con familia",
                  "175"
                ],
                [
                  0,
                  "Solo",
                  "374"
                ],
                [
                  1,
                  "Solo",
                  "163"
                ]
              ]
            },
            "text/plain": "<Spark SQL result set with 4 rows and 3 fields>"
          },
          "metadata": {}
        }
      ],
      "execution_count": 73,
      "metadata": {
        "jupyter": {
          "source_hidden": false,
          "outputs_hidden": false
        },
        "nteract": {
          "transient": {
            "deleting": false
          }
        },
        "microsoft": {
          "language": "sparksql"
        },
        "collapsed": false
      }
    },
    {
      "cell_type": "markdown",
      "source": [
        "Atentiendo además a si existe relación o no entre viajar solo o con familia y sobrevivir, podemos observar que la tasa de superviviencia de aquellos individuos que viajaban solos es menor en proporción de aquellos que viajaban con familia."
      ],
      "metadata": {
        "nteract": {
          "transient": {
            "deleting": false
          }
        }
      }
    },
    {
      "cell_type": "markdown",
      "source": [
        "#### Diferencia de tarifa promedio entre los pasajeros que sobrevivieron y los que no sobrevivieron:"
      ],
      "metadata": {
        "nteract": {
          "transient": {
            "deleting": false
          }
        }
      }
    },
    {
      "cell_type": "code",
      "source": [
        "%%sql\r\n",
        "SELECT Survived, round(AVG(Fare), 2) AS tarifa_promedio\r\n",
        "FROM pasajeros_titanic\r\n",
        "GROUP BY Survived"
      ],
      "outputs": [
        {
          "output_type": "display_data",
          "data": {
            "application/vnd.livy.statement-meta+json": {
              "spark_pool": "myspark4lab",
              "session_id": "7",
              "statement_id": 68,
              "state": "finished",
              "livy_statement_state": "available",
              "queued_time": "2024-03-04T17:09:54.4493091Z",
              "session_start_time": null,
              "execution_start_time": "2024-03-04T17:09:54.6115543Z",
              "execution_finish_time": "2024-03-04T17:09:55.1669802Z",
              "spark_jobs": null,
              "parent_msg_id": "9b8a00d1-781e-4158-8edb-55c391a4e768"
            },
            "text/plain": "StatementMeta(myspark4lab, 7, 68, Finished, Available)"
          },
          "metadata": {}
        },
        {
          "output_type": "execute_result",
          "execution_count": 67,
          "data": {
            "application/vnd.synapse.sparksql-result+json": {
              "schema": {
                "type": "struct",
                "fields": [
                  {
                    "name": "Survived",
                    "type": "integer",
                    "nullable": true,
                    "metadata": {}
                  },
                  {
                    "name": "tarifa_promedio",
                    "type": "double",
                    "nullable": true,
                    "metadata": {}
                  }
                ]
              },
              "data": [
                [
                  1,
                  48.4
                ],
                [
                  0,
                  22.12
                ]
              ]
            },
            "text/plain": "<Spark SQL result set with 2 rows and 2 fields>"
          },
          "metadata": {}
        }
      ],
      "execution_count": 67,
      "metadata": {
        "jupyter": {
          "source_hidden": false,
          "outputs_hidden": false
        },
        "nteract": {
          "transient": {
            "deleting": false
          }
        },
        "microsoft": {
          "language": "sparksql"
        },
        "collapsed": false
      }
    },
    {
      "cell_type": "markdown",
      "source": [
        "De los resultados anteriores se puede concluir, para sorpresa de nadie, que los pasajeros que no sobrevivieron eran, de media, los que menos habían pagado de tarifa."
      ],
      "metadata": {
        "nteract": {
          "transient": {
            "deleting": false
          }
        }
      }
    },
    {
      "cell_type": "markdown",
      "source": [
        "#### Proporción de pasajeros por género que sobrevivieron en cada clase de ticket:"
      ],
      "metadata": {
        "nteract": {
          "transient": {
            "deleting": false
          }
        }
      }
    },
    {
      "cell_type": "code",
      "source": [
        "%%sql\r\n",
        "SELECT Pclass,\r\n",
        "    Sex,\r\n",
        "    SUM(Survived) AS total_sobrevivieron,\r\n",
        "    COUNT(*) AS total_pasajeros,\r\n",
        "    round(SUM(Survived)*100.0 / COUNT(*), 2) AS tasa_supervivencia_porcentaje\r\n",
        "FROM pasajeros_titanic\r\n",
        "GROUP BY Pclass, Sex\r\n",
        "ORDER BY Pclass"
      ],
      "outputs": [
        {
          "output_type": "display_data",
          "data": {
            "application/vnd.livy.statement-meta+json": {
              "spark_pool": "myspark4lab",
              "session_id": "7",
              "statement_id": 76,
              "state": "finished",
              "livy_statement_state": "available",
              "queued_time": "2024-03-04T17:17:19.4396937Z",
              "session_start_time": null,
              "execution_start_time": "2024-03-04T17:17:19.6459028Z",
              "execution_finish_time": "2024-03-04T17:17:20.7451088Z",
              "spark_jobs": null,
              "parent_msg_id": "89845ba8-8179-43fb-8773-3229a98a3933"
            },
            "text/plain": "StatementMeta(myspark4lab, 7, 76, Finished, Available)"
          },
          "metadata": {}
        },
        {
          "output_type": "execute_result",
          "execution_count": 75,
          "data": {
            "application/vnd.synapse.sparksql-result+json": {
              "schema": {
                "type": "struct",
                "fields": [
                  {
                    "name": "Pclass",
                    "type": "integer",
                    "nullable": true,
                    "metadata": {}
                  },
                  {
                    "name": "Sex",
                    "type": "string",
                    "nullable": true,
                    "metadata": {}
                  },
                  {
                    "name": "total_sobrevivieron",
                    "type": "long",
                    "nullable": true,
                    "metadata": {}
                  },
                  {
                    "name": "total_pasajeros",
                    "type": "long",
                    "nullable": false,
                    "metadata": {}
                  },
                  {
                    "name": "tasa_supervivencia_porcentaje",
                    "type": "decimal(27,2)",
                    "nullable": true,
                    "metadata": {}
                  }
                ]
              },
              "data": [
                [
                  1,
                  "female",
                  "91",
                  "94",
                  "96.81"
                ],
                [
                  1,
                  "male",
                  "45",
                  "122",
                  "36.89"
                ],
                [
                  2,
                  "female",
                  "70",
                  "76",
                  "92.11"
                ],
                [
                  2,
                  "male",
                  "17",
                  "108",
                  "15.74"
                ],
                [
                  3,
                  "male",
                  "47",
                  "347",
                  "13.54"
                ],
                [
                  3,
                  "female",
                  "72",
                  "144",
                  "50.00"
                ]
              ]
            },
            "text/plain": "<Spark SQL result set with 6 rows and 5 fields>"
          },
          "metadata": {}
        }
      ],
      "execution_count": 75,
      "metadata": {
        "jupyter": {
          "source_hidden": false,
          "outputs_hidden": false
        },
        "nteract": {
          "transient": {
            "deleting": false
          }
        },
        "microsoft": {
          "language": "sparksql"
        },
        "collapsed": false
      }
    },
    {
      "cell_type": "markdown",
      "source": [
        "De los resultados anteriores se puede concluir que la supervivencia de las personas estaba fuertemente relacionada con su clase, a mayor clase mayores probabilidades de sobrevivir, y con su género, las mujeres presentan una mayor supervivencia."
      ],
      "metadata": {
        "nteract": {
          "transient": {
            "deleting": false
          }
        }
      }
    },
    {
      "cell_type": "markdown",
      "source": [
        "#### Tarifa más alta pagado por clase y género:"
      ],
      "metadata": {
        "nteract": {
          "transient": {
            "deleting": false
          }
        }
      }
    },
    {
      "cell_type": "code",
      "source": [
        "%%sql\r\n",
        "SELECT Pclass, Sex, round(MAX(Fare), 2) AS tarifa_maxima\r\n",
        "FROM pasajeros_titanic\r\n",
        "GROUP BY Pclass, Sex\r\n",
        "ORDER BY Pclass"
      ],
      "outputs": [
        {
          "output_type": "display_data",
          "data": {
            "application/vnd.livy.statement-meta+json": {
              "spark_pool": "myspark4lab",
              "session_id": "7",
              "statement_id": 77,
              "state": "finished",
              "livy_statement_state": "available",
              "queued_time": "2024-03-04T17:20:26.4615734Z",
              "session_start_time": null,
              "execution_start_time": "2024-03-04T17:20:26.7031842Z",
              "execution_finish_time": "2024-03-04T17:20:27.8493532Z",
              "spark_jobs": null,
              "parent_msg_id": "f3ec2781-9597-4db4-bb08-d18e28da72cc"
            },
            "text/plain": "StatementMeta(myspark4lab, 7, 77, Finished, Available)"
          },
          "metadata": {}
        },
        {
          "output_type": "execute_result",
          "execution_count": 76,
          "data": {
            "application/vnd.synapse.sparksql-result+json": {
              "schema": {
                "type": "struct",
                "fields": [
                  {
                    "name": "Pclass",
                    "type": "integer",
                    "nullable": true,
                    "metadata": {}
                  },
                  {
                    "name": "Sex",
                    "type": "string",
                    "nullable": true,
                    "metadata": {}
                  },
                  {
                    "name": "tarifa_maxima",
                    "type": "double",
                    "nullable": true,
                    "metadata": {}
                  }
                ]
              },
              "data": [
                [
                  1,
                  "female",
                  512.33
                ],
                [
                  1,
                  "male",
                  512.33
                ],
                [
                  2,
                  "female",
                  65
                ],
                [
                  2,
                  "male",
                  73.5
                ],
                [
                  3,
                  "male",
                  69.55
                ],
                [
                  3,
                  "female",
                  69.55
                ]
              ]
            },
            "text/plain": "<Spark SQL result set with 6 rows and 3 fields>"
          },
          "metadata": {}
        }
      ],
      "execution_count": 76,
      "metadata": {
        "jupyter": {
          "source_hidden": false,
          "outputs_hidden": false
        },
        "nteract": {
          "transient": {
            "deleting": false
          }
        },
        "microsoft": {
          "language": "sparksql"
        },
        "collapsed": false
      }
    },
    {
      "cell_type": "markdown",
      "source": [
        "De los resultados anteriores se puede concluir que, normalmente, los precios máximos coinciden (igual porque son los billetes de una pareja). También cabe destacar que, sorprendentemente, el billete más caro de segunda clase de mujer es más barato que el más cararo de primera clase."
      ],
      "metadata": {
        "nteract": {
          "transient": {
            "deleting": false
          }
        }
      }
    }
  ],
  "metadata": {
    "kernelspec": {
      "name": "synapse_pyspark",
      "display_name": "Synapse PySpark"
    },
    "language_info": {
      "name": "python"
    },
    "description": "Notebook con el proceso de análisis exploratorio de los datos del Titanic.",
    "save_output": true,
    "synapse_widget": {
      "version": "0.1",
      "state": {}
    }
  },
  "nbformat": 4,
  "nbformat_minor": 2
}